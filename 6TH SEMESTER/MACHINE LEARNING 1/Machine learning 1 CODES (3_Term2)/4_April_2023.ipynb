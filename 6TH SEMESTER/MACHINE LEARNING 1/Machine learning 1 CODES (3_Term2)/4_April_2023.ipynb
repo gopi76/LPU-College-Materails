{
 "cells": [
  {
   "cell_type": "code",
   "execution_count": null,
   "id": "9363b6cd",
   "metadata": {},
   "outputs": [],
   "source": [
    "import pandas as pd\n",
    "import numpy as np"
   ]
  },
  {
   "cell_type": "code",
   "execution_count": null,
   "id": "d926f49c",
   "metadata": {},
   "outputs": [],
   "source": [
    "df = pd.read_csv('https://raw.githubusercontent.com/rasbt/'\n",
    "                'python-machine-learning-book-3rd-edition'\n",
    "                '/master/ch10/housing.data.txt',\n",
    "                header=None,\n",
    "                sep = '\\s+')"
   ]
  },
  {
   "cell_type": "code",
   "execution_count": null,
   "id": "e8a54910",
   "metadata": {},
   "outputs": [],
   "source": [
    "df"
   ]
  },
  {
   "cell_type": "code",
   "execution_count": null,
   "id": "5116d49b",
   "metadata": {},
   "outputs": [],
   "source": [
    "df.columns = ['CRIM','ZN','INDUS','CHAS','NOX','RM','AGE',\n",
    "             'DIS','RAD','TAX','PTRATIO','B','LSTAT','MEDV']"
   ]
  },
  {
   "cell_type": "code",
   "execution_count": null,
   "id": "772e8fa8",
   "metadata": {},
   "outputs": [],
   "source": [
    "df.head(5)"
   ]
  },
  {
   "cell_type": "code",
   "execution_count": null,
   "id": "a95072aa",
   "metadata": {},
   "outputs": [],
   "source": [
    "import matplotlib.pyplot as plt\n",
    "from mlxtend.plotting import scatterplotmatrix\n",
    "\n",
    "\n",
    "cols = ['LSTAT', 'INDUS', 'NOX', 'RM', 'MEDV']\n",
    "\n",
    "scatterplotmatrix(df[cols].values, figsize=(10, 8), alpha=0.5)\n",
    "plt.tight_layout()\n",
    "plt.show()"
   ]
  },
  {
   "cell_type": "code",
   "execution_count": null,
   "id": "839aa9af",
   "metadata": {},
   "outputs": [],
   "source": [
    "import seaborn as sns\n",
    "\n",
    "cm = np.corrcoef(df[cols].values.T)\n",
    "\n",
    "plt.figure(figsize = (8,7))\n",
    "\n",
    "sns.set(font_scale = 0.8)\n",
    "sns.heatmap(cm, annot = True,fmt = '.3g', cmap = 'PiYG')\n",
    "plt.title('Heatmap ...')\n",
    "plt.show()"
   ]
  },
  {
   "cell_type": "code",
   "execution_count": null,
   "id": "7ad2032d",
   "metadata": {},
   "outputs": [],
   "source": [
    "X = df[['RM']].values\n",
    "y = df[['MEDV']].values\n",
    "\n",
    "from sklearn.linear_model import LinearRegression\n",
    "\n",
    "slr = LinearRegression()\n",
    "slr.fit(X, y)\n",
    "\n",
    "print('Slope: %.3f' % slr.coef_[0])\n",
    "print('Intercept: %.3f' % slr.intercept_)\n"
   ]
  },
  {
   "cell_type": "code",
   "execution_count": null,
   "id": "eaa869c3",
   "metadata": {},
   "outputs": [],
   "source": [
    "def lin_regplot(X, y, model):\n",
    "    plt.scatter(X,y,c='steelblue', edgecolor = 'white', s=70)\n",
    "    plt.plot(X,model.predict(X), color = 'black', lw = 2)\n",
    "    return None\n",
    "\n",
    "lin_regplot(X, y, slr)\n",
    "\n",
    "plt.xlabel(\"Average number of rooms [RM]\")\n",
    "plt.ylabel(\"PRice in $1000s [MEDV]\")\n",
    "plt.show()"
   ]
  },
  {
   "cell_type": "code",
   "execution_count": null,
   "id": "a394b316",
   "metadata": {},
   "outputs": [],
   "source": [
    "#split the dataset\n",
    "\n",
    "from sklearn.model_selection import train_test_split\n",
    "\n",
    "X = df.iloc[:,:-1].values\n",
    "y = df['MEDV'].values\n",
    "\n",
    "X_train, X_test, y_train, y_test = train_test_split(X,y,\n",
    "                                                   test_size = 0.3, random_state = 0)\n",
    "\n",
    "slr = LinearRegression()\n",
    "slr.fit(X_train,y_train)\n",
    "\n",
    "y_train_pred = slr.predict(X_train)\n",
    "y_test_pred  = slr.predict(X_test)"
   ]
  },
  {
   "cell_type": "code",
   "execution_count": null,
   "id": "ee893546",
   "metadata": {},
   "outputs": [],
   "source": [
    "from sklearn.linear_model import RANSACRegressor\n",
    "ransac = RANSACRegressor(LinearRegression(), \n",
    "                         max_trials=100, min_samples=50,\n",
    "                         loss='absolute_error',\n",
    "                         residual_threshold=5.0,random_state=0)\n",
    "ransac.fit(X, y)"
   ]
  },
  {
   "cell_type": "code",
   "execution_count": null,
   "id": "a84590a6",
   "metadata": {},
   "outputs": [],
   "source": [
    "inlier_mask = ransac.inlier_mask\n",
    "\n",
    "outlier_mask = np.logical_not(inlier_mask)\n",
    "line_X = np.arange(3,10,1)\n",
    "line_Y_ransac = ransac.predict(line_X[:, np.newaxis])\n",
    "\n",
    "plt.scatter(X[inlier_mask], y[inlier_mask],\n",
    "           c = 'steelblue', edgecolor = 'white',\n",
    "           marker = 'o', label = 'Inliers')\n",
    "\n",
    "plt.scatter(X[outlier_mask], y[outlier_mask],\n",
    "           c = 'limegreen', edgecolor = 'white',\n",
    "           marker = 's', label = 'Outliers')\n",
    "\n",
    "plt.plot(line_X, line_Y_ransac, color = 'black', lw = 2)\n",
    "plt.xlabel()"
   ]
  },
  {
   "cell_type": "code",
   "execution_count": null,
   "id": "583ba6ad",
   "metadata": {},
   "outputs": [],
   "source": [
    "#split the dataset\n",
    "\n",
    "from sklearn.model_selection import train_test_split\n",
    "\n",
    "X = df.iloc[:,:-1].values\n",
    "y = df['MEDV'].values\n",
    "\n",
    "X_train, X_test, y_train, y_test = train_test_split(X,y,\n",
    "                                                   test_size = 0.3, random_state = 0)\n",
    "\n",
    "slr = LinearRegression()\n",
    "slr.fit(X_train,y_train)\n",
    "\n",
    "y_train_pred = slr.predict(X_train)\n",
    "y_test_pred  = slr.predict(X_test)"
   ]
  },
  {
   "cell_type": "code",
   "execution_count": null,
   "id": "13ae9686",
   "metadata": {},
   "outputs": [],
   "source": [
    "plt.scatter(Y_train_pred, Y_train_pred - Y_train,\n",
    "           c = 'steelblue', marker = 'o', edgecolor = 'white',\n",
    "           label = 'Training data')\n",
    "\n",
    "plt.scatter(Y_test_pred, Y_test_pred - Y_test,\n",
    "           c = 'limegreen', marker = 's', edgecolor = 'white',\n",
    "           label = 'Test data')\n",
    "\n",
    "plot.xlabel('Predicted values')\n",
    "plot.ylabel('Residuals')\n",
    "\n",
    "plt.legend(loc = 'upper left')\n",
    "plot.hliness(y= 0, xmin =)"
   ]
  },
  {
   "cell_type": "code",
   "execution_count": null,
   "id": "954cd732",
   "metadata": {},
   "outputs": [],
   "source": [
    "from sklearn.metrics import mean_squared_error\n",
    "print('MSE train: %.3f, test: %.3f' % (\n",
    "       mean_squared_error(Y_train, Y_train_pred),\n",
    "       mean_squared_error(Y_test, Y_test_pred)))"
   ]
  },
  {
   "cell_type": "code",
   "execution_count": null,
   "id": "bb7d91ec",
   "metadata": {},
   "outputs": [],
   "source": [
    "from sklearn.metrics import *\n"
   ]
  },
  {
   "cell_type": "code",
   "execution_count": null,
   "id": "7e0c55d2",
   "metadata": {},
   "outputs": [],
   "source": [
    "mae = mean_absolute_error(y_test,y_pred)\n",
    "print(mae)"
   ]
  },
  {
   "cell_type": "code",
   "execution_count": null,
   "id": "16d7ee28",
   "metadata": {},
   "outputs": [],
   "source": []
  }
 ],
 "metadata": {
  "kernelspec": {
   "display_name": "Python 3 (ipykernel)",
   "language": "python",
   "name": "python3"
  },
  "language_info": {
   "codemirror_mode": {
    "name": "ipython",
    "version": 3
   },
   "file_extension": ".py",
   "mimetype": "text/x-python",
   "name": "python",
   "nbconvert_exporter": "python",
   "pygments_lexer": "ipython3",
   "version": "3.9.12"
  }
 },
 "nbformat": 4,
 "nbformat_minor": 5
}
