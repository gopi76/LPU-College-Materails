{
 "cells": [
  {
   "cell_type": "markdown",
   "metadata": {},
   "source": [
    "# IMPORTING ALL LIBRARIES"
   ]
  },
  {
   "cell_type": "code",
   "execution_count": 1,
   "metadata": {
    "_cell_guid": "b1076dfc-b9ad-4769-8c92-a6c4dae69d19",
    "_uuid": "8f2839f25d086af736a60e9eeb907d3b93b6e0e5",
    "execution": {
     "iopub.execute_input": "2023-04-26T09:49:00.935599Z",
     "iopub.status.busy": "2023-04-26T09:49:00.935192Z",
     "iopub.status.idle": "2023-04-26T09:49:00.943756Z",
     "shell.execute_reply": "2023-04-26T09:49:00.942704Z",
     "shell.execute_reply.started": "2023-04-26T09:49:00.935541Z"
    }
   },
   "outputs": [],
   "source": [
    "\n",
    "\n",
    "import numpy as np # linear algebra\n",
    "import pandas as pd # data processing, CSV file I/O (e.g. pd.read_csv)\n",
    "\n",
    "\n",
    "import os\n",
    "for dirname, _, filenames in os.walk('/kaggle/input'):\n",
    "    for filename in filenames:\n",
    "        print(os.path.join(dirname, filename))\n",
    "\n"
   ]
  },
  {
   "cell_type": "code",
   "execution_count": 94,
   "metadata": {
    "execution": {
     "iopub.execute_input": "2023-04-26T09:49:01.001211Z",
     "iopub.status.busy": "2023-04-26T09:49:00.999677Z",
     "iopub.status.idle": "2023-04-26T09:49:01.017772Z",
     "shell.execute_reply": "2023-04-26T09:49:01.016322Z",
     "shell.execute_reply.started": "2023-04-26T09:49:01.001150Z"
    }
   },
   "outputs": [
    {
     "data": {
      "text/html": [
       "<div>\n",
       "<style scoped>\n",
       "    .dataframe tbody tr th:only-of-type {\n",
       "        vertical-align: middle;\n",
       "    }\n",
       "\n",
       "    .dataframe tbody tr th {\n",
       "        vertical-align: top;\n",
       "    }\n",
       "\n",
       "    .dataframe thead th {\n",
       "        text-align: right;\n",
       "    }\n",
       "</style>\n",
       "<table border=\"1\" class=\"dataframe\">\n",
       "  <thead>\n",
       "    <tr style=\"text-align: right;\">\n",
       "      <th></th>\n",
       "      <th>ID</th>\n",
       "      <th>Expected</th>\n",
       "    </tr>\n",
       "  </thead>\n",
       "  <tbody>\n",
       "    <tr>\n",
       "      <th>0</th>\n",
       "      <td>1</td>\n",
       "      <td>171</td>\n",
       "    </tr>\n",
       "    <tr>\n",
       "      <th>1</th>\n",
       "      <td>2</td>\n",
       "      <td>165</td>\n",
       "    </tr>\n",
       "    <tr>\n",
       "      <th>2</th>\n",
       "      <td>3</td>\n",
       "      <td>167</td>\n",
       "    </tr>\n",
       "    <tr>\n",
       "      <th>3</th>\n",
       "      <td>4</td>\n",
       "      <td>161</td>\n",
       "    </tr>\n",
       "    <tr>\n",
       "      <th>4</th>\n",
       "      <td>5</td>\n",
       "      <td>156</td>\n",
       "    </tr>\n",
       "  </tbody>\n",
       "</table>\n",
       "</div>"
      ],
      "text/plain": [
       "   ID  Expected\n",
       "0   1       171\n",
       "1   2       165\n",
       "2   3       167\n",
       "3   4       161\n",
       "4   5       156"
      ]
     },
     "execution_count": 94,
     "metadata": {},
     "output_type": "execute_result"
    }
   ],
   "source": [
    "df_sample = pd.read_csv(\"/kaggle/input/km054regression/Sample.csv\")\n",
    "df_sample.head()"
   ]
  },
  {
   "cell_type": "code",
   "execution_count": 95,
   "metadata": {
    "execution": {
     "iopub.execute_input": "2023-04-26T09:49:01.056064Z",
     "iopub.status.busy": "2023-04-26T09:49:01.055163Z",
     "iopub.status.idle": "2023-04-26T09:49:01.074648Z",
     "shell.execute_reply": "2023-04-26T09:49:01.073283Z",
     "shell.execute_reply.started": "2023-04-26T09:49:01.056013Z"
    }
   },
   "outputs": [
    {
     "data": {
      "text/html": [
       "<div>\n",
       "<style scoped>\n",
       "    .dataframe tbody tr th:only-of-type {\n",
       "        vertical-align: middle;\n",
       "    }\n",
       "\n",
       "    .dataframe tbody tr th {\n",
       "        vertical-align: top;\n",
       "    }\n",
       "\n",
       "    .dataframe thead th {\n",
       "        text-align: right;\n",
       "    }\n",
       "</style>\n",
       "<table border=\"1\" class=\"dataframe\">\n",
       "  <thead>\n",
       "    <tr style=\"text-align: right;\">\n",
       "      <th></th>\n",
       "      <th>SystemCodeNumber</th>\n",
       "      <th>Capacity</th>\n",
       "      <th>Occupancy</th>\n",
       "      <th>LastUpdated</th>\n",
       "    </tr>\n",
       "  </thead>\n",
       "  <tbody>\n",
       "    <tr>\n",
       "      <th>0</th>\n",
       "      <td>BHMBCCMKT01</td>\n",
       "      <td>577</td>\n",
       "      <td>61</td>\n",
       "      <td>04-10-2016 07:59</td>\n",
       "    </tr>\n",
       "    <tr>\n",
       "      <th>1</th>\n",
       "      <td>BHMBCCMKT01</td>\n",
       "      <td>577</td>\n",
       "      <td>64</td>\n",
       "      <td>04-10-2016 08:25</td>\n",
       "    </tr>\n",
       "    <tr>\n",
       "      <th>2</th>\n",
       "      <td>BHMBCCMKT01</td>\n",
       "      <td>577</td>\n",
       "      <td>80</td>\n",
       "      <td>04-10-2016 08:59</td>\n",
       "    </tr>\n",
       "    <tr>\n",
       "      <th>3</th>\n",
       "      <td>BHMBCCMKT01</td>\n",
       "      <td>577</td>\n",
       "      <td>107</td>\n",
       "      <td>04-10-2016 09:32</td>\n",
       "    </tr>\n",
       "    <tr>\n",
       "      <th>4</th>\n",
       "      <td>BHMBCCMKT01</td>\n",
       "      <td>577</td>\n",
       "      <td>150</td>\n",
       "      <td>04-10-2016 09:59</td>\n",
       "    </tr>\n",
       "  </tbody>\n",
       "</table>\n",
       "</div>"
      ],
      "text/plain": [
       "  SystemCodeNumber  Capacity  Occupancy       LastUpdated\n",
       "0      BHMBCCMKT01       577         61  04-10-2016 07:59\n",
       "1      BHMBCCMKT01       577         64  04-10-2016 08:25\n",
       "2      BHMBCCMKT01       577         80  04-10-2016 08:59\n",
       "3      BHMBCCMKT01       577        107  04-10-2016 09:32\n",
       "4      BHMBCCMKT01       577        150  04-10-2016 09:59"
      ]
     },
     "execution_count": 95,
     "metadata": {},
     "output_type": "execute_result"
    }
   ],
   "source": [
    "df_train = pd.read_csv(\"/kaggle/input/km054regression/train.csv\")\n",
    "df_train.head()"
   ]
  },
  {
   "cell_type": "code",
   "execution_count": 96,
   "metadata": {
    "execution": {
     "iopub.execute_input": "2023-04-26T09:49:01.090506Z",
     "iopub.status.busy": "2023-04-26T09:49:01.090006Z",
     "iopub.status.idle": "2023-04-26T09:49:01.103412Z",
     "shell.execute_reply": "2023-04-26T09:49:01.102348Z",
     "shell.execute_reply.started": "2023-04-26T09:49:01.090457Z"
    }
   },
   "outputs": [
    {
     "data": {
      "text/plain": [
       "array(['BHMBCCMKT01'], dtype=object)"
      ]
     },
     "execution_count": 96,
     "metadata": {},
     "output_type": "execute_result"
    }
   ],
   "source": [
    "df_test = pd.read_csv(\"/kaggle/input/km038regression/test.csv\")\n",
    "df_test.head()\n",
    "df_test['SystemCodeNumber'].unique()"
   ]
  },
  {
   "cell_type": "code",
   "execution_count": 97,
   "metadata": {
    "execution": {
     "iopub.execute_input": "2023-04-26T09:49:01.157126Z",
     "iopub.status.busy": "2023-04-26T09:49:01.156656Z",
     "iopub.status.idle": "2023-04-26T09:49:01.172843Z",
     "shell.execute_reply": "2023-04-26T09:49:01.169233Z",
     "shell.execute_reply.started": "2023-04-26T09:49:01.157075Z"
    }
   },
   "outputs": [
    {
     "name": "stdout",
     "output_type": "stream",
     "text": [
      "['BHMBCCMKT01']\n",
      "[577]\n",
      "['BHMBCCMKT01']\n",
      "[577]\n"
     ]
    }
   ],
   "source": [
    "print(df_train['SystemCodeNumber'].unique())\n",
    "print(df_train['Capacity'].unique())\n",
    "print(df_test['SystemCodeNumber'].unique())\n",
    "print(df_test['Capacity'].unique())"
   ]
  },
  {
   "cell_type": "markdown",
   "metadata": {},
   "source": [
    "# DATA PREPROCESSING"
   ]
  },
  {
   "cell_type": "code",
   "execution_count": 98,
   "metadata": {
    "execution": {
     "iopub.execute_input": "2023-04-26T09:49:01.210837Z",
     "iopub.status.busy": "2023-04-26T09:49:01.209920Z",
     "iopub.status.idle": "2023-04-26T09:49:01.224186Z",
     "shell.execute_reply": "2023-04-26T09:49:01.222658Z",
     "shell.execute_reply.started": "2023-04-26T09:49:01.210792Z"
    }
   },
   "outputs": [
    {
     "data": {
      "text/plain": [
       "SystemCodeNumber    0\n",
       "Capacity            0\n",
       "Occupancy           0\n",
       "LastUpdated         0\n",
       "dtype: int64"
      ]
     },
     "execution_count": 98,
     "metadata": {},
     "output_type": "execute_result"
    }
   ],
   "source": [
    "df_train.isna().sum()"
   ]
  },
  {
   "cell_type": "code",
   "execution_count": 99,
   "metadata": {
    "execution": {
     "iopub.execute_input": "2023-04-26T09:49:01.230240Z",
     "iopub.status.busy": "2023-04-26T09:49:01.229392Z",
     "iopub.status.idle": "2023-04-26T09:49:01.245138Z",
     "shell.execute_reply": "2023-04-26T09:49:01.244144Z",
     "shell.execute_reply.started": "2023-04-26T09:49:01.230190Z"
    }
   },
   "outputs": [],
   "source": [
    "from sklearn.preprocessing import LabelEncoder\n",
    "for i in ['SystemCodeNumber','LastUpdated']:\n",
    "    df_train[i] = LabelEncoder().fit_transform(df_train[i])\n",
    "    df_test[i] = LabelEncoder().fit_transform(df_test[i])"
   ]
  },
  {
   "cell_type": "code",
   "execution_count": 100,
   "metadata": {
    "execution": {
     "iopub.execute_input": "2023-04-26T09:49:01.256696Z",
     "iopub.status.busy": "2023-04-26T09:49:01.255959Z",
     "iopub.status.idle": "2023-04-26T09:49:01.269196Z",
     "shell.execute_reply": "2023-04-26T09:49:01.268023Z",
     "shell.execute_reply.started": "2023-04-26T09:49:01.256646Z"
    }
   },
   "outputs": [
    {
     "data": {
      "text/html": [
       "<div>\n",
       "<style scoped>\n",
       "    .dataframe tbody tr th:only-of-type {\n",
       "        vertical-align: middle;\n",
       "    }\n",
       "\n",
       "    .dataframe tbody tr th {\n",
       "        vertical-align: top;\n",
       "    }\n",
       "\n",
       "    .dataframe thead th {\n",
       "        text-align: right;\n",
       "    }\n",
       "</style>\n",
       "<table border=\"1\" class=\"dataframe\">\n",
       "  <thead>\n",
       "    <tr style=\"text-align: right;\">\n",
       "      <th></th>\n",
       "      <th>SystemCodeNumber</th>\n",
       "      <th>Capacity</th>\n",
       "      <th>Occupancy</th>\n",
       "      <th>LastUpdated</th>\n",
       "    </tr>\n",
       "  </thead>\n",
       "  <tbody>\n",
       "    <tr>\n",
       "      <th>0</th>\n",
       "      <td>0</td>\n",
       "      <td>577</td>\n",
       "      <td>61</td>\n",
       "      <td>0</td>\n",
       "    </tr>\n",
       "    <tr>\n",
       "      <th>1</th>\n",
       "      <td>0</td>\n",
       "      <td>577</td>\n",
       "      <td>64</td>\n",
       "      <td>1</td>\n",
       "    </tr>\n",
       "    <tr>\n",
       "      <th>2</th>\n",
       "      <td>0</td>\n",
       "      <td>577</td>\n",
       "      <td>80</td>\n",
       "      <td>2</td>\n",
       "    </tr>\n",
       "    <tr>\n",
       "      <th>3</th>\n",
       "      <td>0</td>\n",
       "      <td>577</td>\n",
       "      <td>107</td>\n",
       "      <td>3</td>\n",
       "    </tr>\n",
       "    <tr>\n",
       "      <th>4</th>\n",
       "      <td>0</td>\n",
       "      <td>577</td>\n",
       "      <td>150</td>\n",
       "      <td>4</td>\n",
       "    </tr>\n",
       "  </tbody>\n",
       "</table>\n",
       "</div>"
      ],
      "text/plain": [
       "   SystemCodeNumber  Capacity  Occupancy  LastUpdated\n",
       "0                 0       577         61            0\n",
       "1                 0       577         64            1\n",
       "2                 0       577         80            2\n",
       "3                 0       577        107            3\n",
       "4                 0       577        150            4"
      ]
     },
     "execution_count": 100,
     "metadata": {},
     "output_type": "execute_result"
    }
   ],
   "source": [
    "df_train.head()"
   ]
  },
  {
   "cell_type": "code",
   "execution_count": 101,
   "metadata": {
    "execution": {
     "iopub.execute_input": "2023-04-26T09:49:01.310170Z",
     "iopub.status.busy": "2023-04-26T09:49:01.309675Z",
     "iopub.status.idle": "2023-04-26T09:49:01.322136Z",
     "shell.execute_reply": "2023-04-26T09:49:01.320926Z",
     "shell.execute_reply.started": "2023-04-26T09:49:01.310119Z"
    }
   },
   "outputs": [
    {
     "data": {
      "text/html": [
       "<div>\n",
       "<style scoped>\n",
       "    .dataframe tbody tr th:only-of-type {\n",
       "        vertical-align: middle;\n",
       "    }\n",
       "\n",
       "    .dataframe tbody tr th {\n",
       "        vertical-align: top;\n",
       "    }\n",
       "\n",
       "    .dataframe thead th {\n",
       "        text-align: right;\n",
       "    }\n",
       "</style>\n",
       "<table border=\"1\" class=\"dataframe\">\n",
       "  <thead>\n",
       "    <tr style=\"text-align: right;\">\n",
       "      <th></th>\n",
       "      <th>SystemCodeNumber</th>\n",
       "      <th>Capacity</th>\n",
       "      <th>LastUpdated</th>\n",
       "    </tr>\n",
       "  </thead>\n",
       "  <tbody>\n",
       "    <tr>\n",
       "      <th>0</th>\n",
       "      <td>0</td>\n",
       "      <td>577</td>\n",
       "      <td>0</td>\n",
       "    </tr>\n",
       "    <tr>\n",
       "      <th>1</th>\n",
       "      <td>0</td>\n",
       "      <td>577</td>\n",
       "      <td>1</td>\n",
       "    </tr>\n",
       "    <tr>\n",
       "      <th>2</th>\n",
       "      <td>0</td>\n",
       "      <td>577</td>\n",
       "      <td>2</td>\n",
       "    </tr>\n",
       "    <tr>\n",
       "      <th>3</th>\n",
       "      <td>0</td>\n",
       "      <td>577</td>\n",
       "      <td>3</td>\n",
       "    </tr>\n",
       "    <tr>\n",
       "      <th>4</th>\n",
       "      <td>0</td>\n",
       "      <td>577</td>\n",
       "      <td>4</td>\n",
       "    </tr>\n",
       "  </tbody>\n",
       "</table>\n",
       "</div>"
      ],
      "text/plain": [
       "   SystemCodeNumber  Capacity  LastUpdated\n",
       "0                 0       577            0\n",
       "1                 0       577            1\n",
       "2                 0       577            2\n",
       "3                 0       577            3\n",
       "4                 0       577            4"
      ]
     },
     "execution_count": 101,
     "metadata": {},
     "output_type": "execute_result"
    }
   ],
   "source": [
    "df_test.head()"
   ]
  },
  {
   "cell_type": "code",
   "execution_count": 102,
   "metadata": {
    "execution": {
     "iopub.execute_input": "2023-04-26T09:49:01.455203Z",
     "iopub.status.busy": "2023-04-26T09:49:01.454780Z",
     "iopub.status.idle": "2023-04-26T09:49:01.462125Z",
     "shell.execute_reply": "2023-04-26T09:49:01.460941Z",
     "shell.execute_reply.started": "2023-04-26T09:49:01.455165Z"
    }
   },
   "outputs": [],
   "source": [
    "x = df_train.drop(columns=['Occupancy'])\n",
    "y = df_train['Occupancy']"
   ]
  },
  {
   "cell_type": "code",
   "execution_count": 103,
   "metadata": {
    "execution": {
     "iopub.execute_input": "2023-04-26T09:49:01.494990Z",
     "iopub.status.busy": "2023-04-26T09:49:01.494577Z",
     "iopub.status.idle": "2023-04-26T09:49:01.505523Z",
     "shell.execute_reply": "2023-04-26T09:49:01.503907Z",
     "shell.execute_reply.started": "2023-04-26T09:49:01.494951Z"
    }
   },
   "outputs": [],
   "source": [
    "from sklearn.preprocessing import StandardScaler\n",
    "scaler = StandardScaler()\n",
    "x = pd.DataFrame(scaler.fit_transform(x))"
   ]
  },
  {
   "cell_type": "code",
   "execution_count": 104,
   "metadata": {
    "execution": {
     "iopub.execute_input": "2023-04-26T09:49:01.565412Z",
     "iopub.status.busy": "2023-04-26T09:49:01.564682Z",
     "iopub.status.idle": "2023-04-26T09:49:01.580444Z",
     "shell.execute_reply": "2023-04-26T09:49:01.579149Z",
     "shell.execute_reply.started": "2023-04-26T09:49:01.565361Z"
    }
   },
   "outputs": [
    {
     "data": {
      "text/html": [
       "<div>\n",
       "<style scoped>\n",
       "    .dataframe tbody tr th:only-of-type {\n",
       "        vertical-align: middle;\n",
       "    }\n",
       "\n",
       "    .dataframe tbody tr th {\n",
       "        vertical-align: top;\n",
       "    }\n",
       "\n",
       "    .dataframe thead th {\n",
       "        text-align: right;\n",
       "    }\n",
       "</style>\n",
       "<table border=\"1\" class=\"dataframe\">\n",
       "  <thead>\n",
       "    <tr style=\"text-align: right;\">\n",
       "      <th></th>\n",
       "      <th>0</th>\n",
       "      <th>1</th>\n",
       "      <th>2</th>\n",
       "    </tr>\n",
       "  </thead>\n",
       "  <tbody>\n",
       "    <tr>\n",
       "      <th>0</th>\n",
       "      <td>0.0</td>\n",
       "      <td>0.0</td>\n",
       "      <td>-1.727801</td>\n",
       "    </tr>\n",
       "    <tr>\n",
       "      <th>1</th>\n",
       "      <td>0.0</td>\n",
       "      <td>0.0</td>\n",
       "      <td>-1.719118</td>\n",
       "    </tr>\n",
       "    <tr>\n",
       "      <th>2</th>\n",
       "      <td>0.0</td>\n",
       "      <td>0.0</td>\n",
       "      <td>-1.710436</td>\n",
       "    </tr>\n",
       "    <tr>\n",
       "      <th>3</th>\n",
       "      <td>0.0</td>\n",
       "      <td>0.0</td>\n",
       "      <td>-1.701753</td>\n",
       "    </tr>\n",
       "    <tr>\n",
       "      <th>4</th>\n",
       "      <td>0.0</td>\n",
       "      <td>0.0</td>\n",
       "      <td>-1.693070</td>\n",
       "    </tr>\n",
       "    <tr>\n",
       "      <th>...</th>\n",
       "      <td>...</td>\n",
       "      <td>...</td>\n",
       "      <td>...</td>\n",
       "    </tr>\n",
       "    <tr>\n",
       "      <th>394</th>\n",
       "      <td>0.0</td>\n",
       "      <td>0.0</td>\n",
       "      <td>1.693157</td>\n",
       "    </tr>\n",
       "    <tr>\n",
       "      <th>395</th>\n",
       "      <td>0.0</td>\n",
       "      <td>0.0</td>\n",
       "      <td>1.701840</td>\n",
       "    </tr>\n",
       "    <tr>\n",
       "      <th>396</th>\n",
       "      <td>0.0</td>\n",
       "      <td>0.0</td>\n",
       "      <td>1.710523</td>\n",
       "    </tr>\n",
       "    <tr>\n",
       "      <th>397</th>\n",
       "      <td>0.0</td>\n",
       "      <td>0.0</td>\n",
       "      <td>1.710523</td>\n",
       "    </tr>\n",
       "    <tr>\n",
       "      <th>398</th>\n",
       "      <td>0.0</td>\n",
       "      <td>0.0</td>\n",
       "      <td>1.719205</td>\n",
       "    </tr>\n",
       "  </tbody>\n",
       "</table>\n",
       "<p>399 rows × 3 columns</p>\n",
       "</div>"
      ],
      "text/plain": [
       "       0    1         2\n",
       "0    0.0  0.0 -1.727801\n",
       "1    0.0  0.0 -1.719118\n",
       "2    0.0  0.0 -1.710436\n",
       "3    0.0  0.0 -1.701753\n",
       "4    0.0  0.0 -1.693070\n",
       "..   ...  ...       ...\n",
       "394  0.0  0.0  1.693157\n",
       "395  0.0  0.0  1.701840\n",
       "396  0.0  0.0  1.710523\n",
       "397  0.0  0.0  1.710523\n",
       "398  0.0  0.0  1.719205\n",
       "\n",
       "[399 rows x 3 columns]"
      ]
     },
     "execution_count": 104,
     "metadata": {},
     "output_type": "execute_result"
    }
   ],
   "source": [
    "x"
   ]
  },
  {
   "cell_type": "markdown",
   "metadata": {},
   "source": [
    "# APPLYING REGRESSION"
   ]
  },
  {
   "cell_type": "code",
   "execution_count": 105,
   "metadata": {
    "execution": {
     "iopub.execute_input": "2023-04-26T09:49:01.630532Z",
     "iopub.status.busy": "2023-04-26T09:49:01.629803Z",
     "iopub.status.idle": "2023-04-26T09:49:01.643211Z",
     "shell.execute_reply": "2023-04-26T09:49:01.641799Z",
     "shell.execute_reply.started": "2023-04-26T09:49:01.630479Z"
    }
   },
   "outputs": [
    {
     "data": {
      "text/plain": [
       "DecisionTreeRegressor(max_depth=3)"
      ]
     },
     "execution_count": 105,
     "metadata": {},
     "output_type": "execute_result"
    }
   ],
   "source": [
    "from sklearn.model_selection import train_test_split\n",
    "xtrain,xtest,ytrain,ytest = train_test_split(x,y,test_size=0.3)\n",
    "model_dt = DecisionTreeRegressor(max_depth=3)\n",
    "\n",
    "model_dt.fit(xtrain,ytrain)"
   ]
  },
  {
   "cell_type": "code",
   "execution_count": 106,
   "metadata": {
    "execution": {
     "iopub.execute_input": "2023-04-26T09:49:01.675700Z",
     "iopub.status.busy": "2023-04-26T09:49:01.674886Z",
     "iopub.status.idle": "2023-04-26T09:49:01.686767Z",
     "shell.execute_reply": "2023-04-26T09:49:01.685236Z",
     "shell.execute_reply.started": "2023-04-26T09:49:01.675644Z"
    }
   },
   "outputs": [
    {
     "name": "stdout",
     "output_type": "stream",
     "text": [
      "0.39963931976433853\n"
     ]
    }
   ],
   "source": [
    "from sklearn.metrics import r2_score\n",
    "print(r2_score(ytrain,model_dt.predict(xtrain)))"
   ]
  },
  {
   "cell_type": "code",
   "execution_count": 107,
   "metadata": {
    "execution": {
     "iopub.execute_input": "2023-04-26T09:49:01.800454Z",
     "iopub.status.busy": "2023-04-26T09:49:01.799704Z",
     "iopub.status.idle": "2023-04-26T09:49:01.811904Z",
     "shell.execute_reply": "2023-04-26T09:49:01.810330Z",
     "shell.execute_reply.started": "2023-04-26T09:49:01.800398Z"
    }
   },
   "outputs": [
    {
     "data": {
      "text/plain": [
       "LinearRegression()"
      ]
     },
     "execution_count": 107,
     "metadata": {},
     "output_type": "execute_result"
    }
   ],
   "source": [
    "from sklearn.linear_model import LinearRegression\n",
    "model_lr = LinearRegression()\n",
    "model_lr.fit(xtrain,ytrain)"
   ]
  },
  {
   "cell_type": "code",
   "execution_count": 108,
   "metadata": {
    "execution": {
     "iopub.execute_input": "2023-04-26T09:49:01.901187Z",
     "iopub.status.busy": "2023-04-26T09:49:01.900475Z",
     "iopub.status.idle": "2023-04-26T09:49:01.920071Z",
     "shell.execute_reply": "2023-04-26T09:49:01.918191Z",
     "shell.execute_reply.started": "2023-04-26T09:49:01.901129Z"
    }
   },
   "outputs": [
    {
     "name": "stdout",
     "output_type": "stream",
     "text": [
      "0.005991799241851559\n"
     ]
    }
   ],
   "source": [
    "print(r2_score(ytrain,model_lr.predict(xtrain)))"
   ]
  },
  {
   "cell_type": "code",
   "execution_count": 109,
   "metadata": {
    "execution": {
     "iopub.execute_input": "2023-04-26T09:49:01.961121Z",
     "iopub.status.busy": "2023-04-26T09:49:01.960396Z",
     "iopub.status.idle": "2023-04-26T09:49:02.015182Z",
     "shell.execute_reply": "2023-04-26T09:49:02.013655Z",
     "shell.execute_reply.started": "2023-04-26T09:49:01.961063Z"
    }
   },
   "outputs": [
    {
     "name": "stdout",
     "output_type": "stream",
     "text": [
      "0.027302622045983216\n"
     ]
    }
   ],
   "source": [
    "from sklearn.preprocessing import PolynomialFeatures\n",
    "poly = PolynomialFeatures(degree=7)\n",
    "poly_data = poly.fit_transform(xtrain)\n",
    "model_lr.fit(poly_data,ytrain)\n",
    "print(r2_score(ytrain,model_lr.predict(poly_data)))"
   ]
  },
  {
   "cell_type": "code",
   "execution_count": 110,
   "metadata": {
    "execution": {
     "iopub.execute_input": "2023-04-26T09:49:02.036950Z",
     "iopub.status.busy": "2023-04-26T09:49:02.036215Z",
     "iopub.status.idle": "2023-04-26T09:49:02.074199Z",
     "shell.execute_reply": "2023-04-26T09:49:02.072668Z",
     "shell.execute_reply.started": "2023-04-26T09:49:02.036884Z"
    }
   },
   "outputs": [
    {
     "data": {
      "text/plain": [
       "Lasso()"
      ]
     },
     "execution_count": 110,
     "metadata": {},
     "output_type": "execute_result"
    }
   ],
   "source": [
    "from sklearn.linear_model import Lasso\n",
    "model_la = Lasso()\n",
    "model_la.fit(xtrain,ytrain)"
   ]
  },
  {
   "cell_type": "code",
   "execution_count": 111,
   "metadata": {
    "execution": {
     "iopub.execute_input": "2023-04-26T09:49:02.076727Z",
     "iopub.status.busy": "2023-04-26T09:49:02.076243Z",
     "iopub.status.idle": "2023-04-26T09:49:02.101987Z",
     "shell.execute_reply": "2023-04-26T09:49:02.100640Z",
     "shell.execute_reply.started": "2023-04-26T09:49:02.076680Z"
    }
   },
   "outputs": [
    {
     "name": "stdout",
     "output_type": "stream",
     "text": [
      "0.005870391760042004\n"
     ]
    }
   ],
   "source": [
    "print(r2_score(ytrain,model_la.predict(xtrain)))"
   ]
  },
  {
   "cell_type": "code",
   "execution_count": 112,
   "metadata": {
    "execution": {
     "iopub.execute_input": "2023-04-26T09:49:02.170822Z",
     "iopub.status.busy": "2023-04-26T09:49:02.170180Z",
     "iopub.status.idle": "2023-04-26T09:49:02.223360Z",
     "shell.execute_reply": "2023-04-26T09:49:02.222154Z",
     "shell.execute_reply.started": "2023-04-26T09:49:02.170764Z"
    }
   },
   "outputs": [
    {
     "name": "stdout",
     "output_type": "stream",
     "text": [
      "-0.0017885935475845383\n"
     ]
    }
   ],
   "source": [
    "from sklearn.linear_model import RANSACRegressor\n",
    "model_rs = RANSACRegressor()\n",
    "model_rs.fit(xtrain,ytrain)\n",
    "\n",
    "print(r2_score(ytrain,model_rs.predict(xtrain)))"
   ]
  },
  {
   "cell_type": "code",
   "execution_count": 113,
   "metadata": {
    "execution": {
     "iopub.execute_input": "2023-04-26T09:49:02.261235Z",
     "iopub.status.busy": "2023-04-26T09:49:02.260800Z",
     "iopub.status.idle": "2023-04-26T09:49:02.279775Z",
     "shell.execute_reply": "2023-04-26T09:49:02.278444Z",
     "shell.execute_reply.started": "2023-04-26T09:49:02.261191Z"
    }
   },
   "outputs": [
    {
     "name": "stdout",
     "output_type": "stream",
     "text": [
      "0.005991798528188097\n",
      "0.005975134254923242\n"
     ]
    }
   ],
   "source": [
    "from sklearn.linear_model import Ridge,ElasticNet\n",
    "\n",
    "model_r = Ridge(alpha=0.1)\n",
    "model_r.fit(xtrain,ytrain)\n",
    "model_en = ElasticNet(alpha=0.1)\n",
    "model_en.fit(xtrain,ytrain)\n",
    "print(r2_score(ytrain,model_r.predict(xtrain)))\n",
    "print(r2_score(ytrain,model_en.predict(xtrain)))"
   ]
  },
  {
   "cell_type": "code",
   "execution_count": 114,
   "metadata": {
    "execution": {
     "iopub.execute_input": "2023-04-26T09:49:02.282917Z",
     "iopub.status.busy": "2023-04-26T09:49:02.281981Z",
     "iopub.status.idle": "2023-04-26T09:49:02.287713Z",
     "shell.execute_reply": "2023-04-26T09:49:02.286760Z",
     "shell.execute_reply.started": "2023-04-26T09:49:02.282874Z"
    }
   },
   "outputs": [],
   "source": [
    "result = pd.DataFrame()"
   ]
  },
  {
   "cell_type": "code",
   "execution_count": 115,
   "metadata": {
    "execution": {
     "iopub.execute_input": "2023-04-26T09:49:05.500654Z",
     "iopub.status.busy": "2023-04-26T09:49:05.500195Z",
     "iopub.status.idle": "2023-04-26T09:49:05.515360Z",
     "shell.execute_reply": "2023-04-26T09:49:05.513905Z",
     "shell.execute_reply.started": "2023-04-26T09:49:05.500610Z"
    }
   },
   "outputs": [
    {
     "data": {
      "text/html": [
       "<div>\n",
       "<style scoped>\n",
       "    .dataframe tbody tr th:only-of-type {\n",
       "        vertical-align: middle;\n",
       "    }\n",
       "\n",
       "    .dataframe tbody tr th {\n",
       "        vertical-align: top;\n",
       "    }\n",
       "\n",
       "    .dataframe thead th {\n",
       "        text-align: right;\n",
       "    }\n",
       "</style>\n",
       "<table border=\"1\" class=\"dataframe\">\n",
       "  <thead>\n",
       "    <tr style=\"text-align: right;\">\n",
       "      <th></th>\n",
       "      <th>ID</th>\n",
       "    </tr>\n",
       "  </thead>\n",
       "  <tbody>\n",
       "    <tr>\n",
       "      <th>0</th>\n",
       "      <td>1</td>\n",
       "    </tr>\n",
       "    <tr>\n",
       "      <th>1</th>\n",
       "      <td>2</td>\n",
       "    </tr>\n",
       "    <tr>\n",
       "      <th>2</th>\n",
       "      <td>3</td>\n",
       "    </tr>\n",
       "    <tr>\n",
       "      <th>3</th>\n",
       "      <td>4</td>\n",
       "    </tr>\n",
       "    <tr>\n",
       "      <th>4</th>\n",
       "      <td>5</td>\n",
       "    </tr>\n",
       "    <tr>\n",
       "      <th>...</th>\n",
       "      <td>...</td>\n",
       "    </tr>\n",
       "    <tr>\n",
       "      <th>115</th>\n",
       "      <td>116</td>\n",
       "    </tr>\n",
       "    <tr>\n",
       "      <th>116</th>\n",
       "      <td>117</td>\n",
       "    </tr>\n",
       "    <tr>\n",
       "      <th>117</th>\n",
       "      <td>118</td>\n",
       "    </tr>\n",
       "    <tr>\n",
       "      <th>118</th>\n",
       "      <td>119</td>\n",
       "    </tr>\n",
       "    <tr>\n",
       "      <th>119</th>\n",
       "      <td>120</td>\n",
       "    </tr>\n",
       "  </tbody>\n",
       "</table>\n",
       "<p>120 rows × 1 columns</p>\n",
       "</div>"
      ],
      "text/plain": [
       "      ID\n",
       "0      1\n",
       "1      2\n",
       "2      3\n",
       "3      4\n",
       "4      5\n",
       "..   ...\n",
       "115  116\n",
       "116  117\n",
       "117  118\n",
       "118  119\n",
       "119  120\n",
       "\n",
       "[120 rows x 1 columns]"
      ]
     },
     "execution_count": 115,
     "metadata": {},
     "output_type": "execute_result"
    }
   ],
   "source": [
    "result['ID']= pd.DataFrame(range(1,df_test.shape[0]+1))\n",
    "result"
   ]
  },
  {
   "cell_type": "code",
   "execution_count": 119,
   "metadata": {
    "execution": {
     "iopub.execute_input": "2023-04-26T09:52:38.546408Z",
     "iopub.status.busy": "2023-04-26T09:52:38.545977Z",
     "iopub.status.idle": "2023-04-26T09:52:38.554963Z",
     "shell.execute_reply": "2023-04-26T09:52:38.553637Z",
     "shell.execute_reply.started": "2023-04-26T09:52:38.546371Z"
    }
   },
   "outputs": [
    {
     "name": "stderr",
     "output_type": "stream",
     "text": [
      "/opt/conda/lib/python3.7/site-packages/sklearn/base.py:444: UserWarning: X has feature names, but ElasticNet was fitted without feature names\n",
      "  f\"X has feature names, but {self.__class__.__name__} was fitted without\"\n"
     ]
    }
   ],
   "source": [
    "result['Expected'] = model_en.predict(df_test)"
   ]
  },
  {
   "cell_type": "code",
   "execution_count": 120,
   "metadata": {
    "execution": {
     "iopub.execute_input": "2023-04-26T09:52:40.515303Z",
     "iopub.status.busy": "2023-04-26T09:52:40.514906Z",
     "iopub.status.idle": "2023-04-26T09:52:40.526391Z",
     "shell.execute_reply": "2023-04-26T09:52:40.525100Z",
     "shell.execute_reply.started": "2023-04-26T09:52:40.515268Z"
    }
   },
   "outputs": [
    {
     "data": {
      "text/html": [
       "<div>\n",
       "<style scoped>\n",
       "    .dataframe tbody tr th:only-of-type {\n",
       "        vertical-align: middle;\n",
       "    }\n",
       "\n",
       "    .dataframe tbody tr th {\n",
       "        vertical-align: top;\n",
       "    }\n",
       "\n",
       "    .dataframe thead th {\n",
       "        text-align: right;\n",
       "    }\n",
       "</style>\n",
       "<table border=\"1\" class=\"dataframe\">\n",
       "  <thead>\n",
       "    <tr style=\"text-align: right;\">\n",
       "      <th></th>\n",
       "      <th>ID</th>\n",
       "      <th>Expected</th>\n",
       "    </tr>\n",
       "  </thead>\n",
       "  <tbody>\n",
       "    <tr>\n",
       "      <th>0</th>\n",
       "      <td>1</td>\n",
       "      <td>167.983761</td>\n",
       "    </tr>\n",
       "    <tr>\n",
       "      <th>1</th>\n",
       "      <td>2</td>\n",
       "      <td>174.393617</td>\n",
       "    </tr>\n",
       "    <tr>\n",
       "      <th>2</th>\n",
       "      <td>3</td>\n",
       "      <td>180.803473</td>\n",
       "    </tr>\n",
       "    <tr>\n",
       "      <th>3</th>\n",
       "      <td>4</td>\n",
       "      <td>187.213329</td>\n",
       "    </tr>\n",
       "    <tr>\n",
       "      <th>4</th>\n",
       "      <td>5</td>\n",
       "      <td>193.623184</td>\n",
       "    </tr>\n",
       "  </tbody>\n",
       "</table>\n",
       "</div>"
      ],
      "text/plain": [
       "   ID    Expected\n",
       "0   1  167.983761\n",
       "1   2  174.393617\n",
       "2   3  180.803473\n",
       "3   4  187.213329\n",
       "4   5  193.623184"
      ]
     },
     "execution_count": 120,
     "metadata": {},
     "output_type": "execute_result"
    }
   ],
   "source": [
    "result.head()"
   ]
  },
  {
   "cell_type": "code",
   "execution_count": 121,
   "metadata": {
    "execution": {
     "iopub.execute_input": "2023-04-26T09:52:43.480487Z",
     "iopub.status.busy": "2023-04-26T09:52:43.479851Z",
     "iopub.status.idle": "2023-04-26T09:52:43.487156Z",
     "shell.execute_reply": "2023-04-26T09:52:43.486137Z",
     "shell.execute_reply.started": "2023-04-26T09:52:43.480434Z"
    }
   },
   "outputs": [],
   "source": [
    "result.to_csv(\"12115851.csv\")"
   ]
  },
  {
   "cell_type": "code",
   "execution_count": null,
   "metadata": {},
   "outputs": [],
   "source": []
  }
 ],
 "metadata": {
  "kernelspec": {
   "display_name": "Python 3 (ipykernel)",
   "language": "python",
   "name": "python3"
  },
  "language_info": {
   "codemirror_mode": {
    "name": "ipython",
    "version": 3
   },
   "file_extension": ".py",
   "mimetype": "text/x-python",
   "name": "python",
   "nbconvert_exporter": "python",
   "pygments_lexer": "ipython3",
   "version": "3.9.12"
  }
 },
 "nbformat": 4,
 "nbformat_minor": 4
}
