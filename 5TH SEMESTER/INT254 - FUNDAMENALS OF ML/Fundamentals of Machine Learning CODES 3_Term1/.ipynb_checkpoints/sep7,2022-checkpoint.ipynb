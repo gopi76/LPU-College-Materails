{
 "cells": [
  {
   "cell_type": "code",
   "execution_count": 1,
   "id": "4e9eedb0",
   "metadata": {},
   "outputs": [],
   "source": [
    "import pandas as pd\n",
    "import numpy as np\n"
   ]
  },
  {
   "cell_type": "code",
   "execution_count": 2,
   "id": "04377b88",
   "metadata": {},
   "outputs": [
    {
     "data": {
      "text/html": [
       "<div>\n",
       "<style scoped>\n",
       "    .dataframe tbody tr th:only-of-type {\n",
       "        vertical-align: middle;\n",
       "    }\n",
       "\n",
       "    .dataframe tbody tr th {\n",
       "        vertical-align: top;\n",
       "    }\n",
       "\n",
       "    .dataframe thead th {\n",
       "        text-align: right;\n",
       "    }\n",
       "</style>\n",
       "<table border=\"1\" class=\"dataframe\">\n",
       "  <thead>\n",
       "    <tr style=\"text-align: right;\">\n",
       "      <th></th>\n",
       "      <th>String col</th>\n",
       "      <th>Name</th>\n",
       "      <th>Integer column</th>\n",
       "      <th>Mixed column</th>\n",
       "      <th>Missing column</th>\n",
       "      <th>Float column</th>\n",
       "      <th>Boolean column</th>\n",
       "      <th>Money available</th>\n",
       "      <th>Custom</th>\n",
       "    </tr>\n",
       "  </thead>\n",
       "  <tbody>\n",
       "    <tr>\n",
       "      <th>0</th>\n",
       "      <td>1</td>\n",
       "      <td>Gopi</td>\n",
       "      <td>1</td>\n",
       "      <td>a</td>\n",
       "      <td>a</td>\n",
       "      <td>1.1</td>\n",
       "      <td>True</td>\n",
       "      <td>200/-</td>\n",
       "      <td>Y</td>\n",
       "    </tr>\n",
       "    <tr>\n",
       "      <th>1</th>\n",
       "      <td>2</td>\n",
       "      <td>Kamran</td>\n",
       "      <td>2</td>\n",
       "      <td>2</td>\n",
       "      <td>2</td>\n",
       "      <td>2.1</td>\n",
       "      <td>False</td>\n",
       "      <td>300/-</td>\n",
       "      <td>Y</td>\n",
       "    </tr>\n",
       "    <tr>\n",
       "      <th>2</th>\n",
       "      <td>3</td>\n",
       "      <td>Suri</td>\n",
       "      <td>3</td>\n",
       "      <td>3.1</td>\n",
       "      <td>3</td>\n",
       "      <td>3.1</td>\n",
       "      <td>True</td>\n",
       "      <td>20/-</td>\n",
       "      <td>N</td>\n",
       "    </tr>\n",
       "    <tr>\n",
       "      <th>3</th>\n",
       "      <td>4</td>\n",
       "      <td>Giri</td>\n",
       "      <td>4</td>\n",
       "      <td>d</td>\n",
       "      <td>NaN</td>\n",
       "      <td>4.1</td>\n",
       "      <td>True</td>\n",
       "      <td>100/-</td>\n",
       "      <td>N</td>\n",
       "    </tr>\n",
       "  </tbody>\n",
       "</table>\n",
       "</div>"
      ],
      "text/plain": [
       "  String col    Name  Integer column Mixed column Missing column  \\\n",
       "0          1    Gopi               1            a              a   \n",
       "1          2  Kamran               2            2              2   \n",
       "2          3    Suri               3          3.1              3   \n",
       "3          4    Giri               4            d            NaN   \n",
       "\n",
       "   Float column Boolean column Money available Custom  \n",
       "0           1.1           True           200/-      Y  \n",
       "1           2.1          False           300/-      Y  \n",
       "2           3.1           True            20/-      N  \n",
       "3           4.1           True           100/-      N  "
      ]
     },
     "execution_count": 2,
     "metadata": {},
     "output_type": "execute_result"
    }
   ],
   "source": [
    "class Solution:\n",
    "    def method(self,df):\n",
    "        return df\n",
    "\n",
    "\n",
    "df= pd.DataFrame({'String col':['1','2','3','4'],\n",
    "                  'Name':['Gopi','Kamran','Suri','Giri'],\n",
    "                  'Integer column':[1,2,3,4], \n",
    "                  'Mixed column':['a',2,3.1,'d'],\n",
    "                  'Missing column':['a',2,3,np.nan],\n",
    "                  'Float column':[1.1,2.1,3.1,4.1],\n",
    "                  'Boolean column':['True','False','True','True'],\n",
    "                  'Money available':['200/-','300/-','20/-','100/-'],\n",
    "                  'Custom':['Y','Y','N','N']})\n",
    "                                                                                                                                                              #o indexing is integer all remaining are integers too                           \n",
    "                                                                                                                                                              #o indexing is start with float all are float \\\\\\ if it is starts with string , it remains same              \n",
    "obj = Solution()\n",
    "obj.method(df)"
   ]
  },
  {
   "cell_type": "code",
   "execution_count": 3,
   "id": "049a1b2d",
   "metadata": {},
   "outputs": [
    {
     "data": {
      "text/plain": [
       "String col          object\n",
       "Name                object\n",
       "Integer column       int64\n",
       "Mixed column        object\n",
       "Missing column      object\n",
       "Float column       float64\n",
       "Boolean column      object\n",
       "Money available     object\n",
       "Custom              object\n",
       "dtype: object"
      ]
     },
     "execution_count": 3,
     "metadata": {},
     "output_type": "execute_result"
    }
   ],
   "source": [
    "df.dtypes"
   ]
  },
  {
   "cell_type": "code",
   "execution_count": 4,
   "id": "58839f7b",
   "metadata": {},
   "outputs": [
    {
     "data": {
      "text/plain": [
       "Index(['String col', 'Name', 'Integer column', 'Mixed column',\n",
       "       'Missing column', 'Float column', 'Boolean column', 'Money available',\n",
       "       'Custom'],\n",
       "      dtype='object')"
      ]
     },
     "execution_count": 4,
     "metadata": {},
     "output_type": "execute_result"
    }
   ],
   "source": [
    "df.columns"
   ]
  },
  {
   "cell_type": "code",
   "execution_count": 5,
   "id": "5e0db87e",
   "metadata": {},
   "outputs": [
    {
     "data": {
      "text/plain": [
       "(4, 9)"
      ]
     },
     "execution_count": 5,
     "metadata": {},
     "output_type": "execute_result"
    }
   ],
   "source": [
    "df.shape"
   ]
  },
  {
   "cell_type": "code",
   "execution_count": 6,
   "id": "8ec2ab91",
   "metadata": {},
   "outputs": [
    {
     "name": "stdout",
     "output_type": "stream",
     "text": [
      "<class 'pandas.core.frame.DataFrame'>\n",
      "RangeIndex: 4 entries, 0 to 3\n",
      "Data columns (total 9 columns):\n",
      " #   Column           Non-Null Count  Dtype  \n",
      "---  ------           --------------  -----  \n",
      " 0   String col       4 non-null      object \n",
      " 1   Name             4 non-null      object \n",
      " 2   Integer column   4 non-null      int64  \n",
      " 3   Mixed column     4 non-null      object \n",
      " 4   Missing column   3 non-null      object \n",
      " 5   Float column     4 non-null      float64\n",
      " 6   Boolean column   4 non-null      object \n",
      " 7   Money available  4 non-null      object \n",
      " 8   Custom           4 non-null      object \n",
      "dtypes: float64(1), int64(1), object(7)\n",
      "memory usage: 416.0+ bytes\n"
     ]
    }
   ],
   "source": [
    "df.info() #checking the null values\n",
    "#df.info prints the total df"
   ]
  },
  {
   "cell_type": "code",
   "execution_count": 7,
   "id": "7eb56913",
   "metadata": {},
   "outputs": [
    {
     "name": "stdout",
     "output_type": "stream",
     "text": [
      "0    1\n",
      "1    2\n",
      "2    3\n",
      "3    4\n",
      "Name: Float column, dtype: int32\n"
     ]
    }
   ],
   "source": [
    "df['Float column'] = df['Float column'].astype('int') #converting the float to int\n",
    "print(df['Float column'])"
   ]
  },
  {
   "cell_type": "code",
   "execution_count": 8,
   "id": "eec9a66a",
   "metadata": {},
   "outputs": [
    {
     "data": {
      "text/plain": [
       "\" \\ndf['Float column'] = df['Float column'].astype('float') #converting the int to float\\nprint(df['Float column'])\\n\""
      ]
     },
     "execution_count": 8,
     "metadata": {},
     "output_type": "execute_result"
    }
   ],
   "source": [
    "''' \n",
    "df['Float column'] = df['Float column'].astype('float') #converting the int to float\n",
    "print(df['Float column'])\n",
    "'''"
   ]
  },
  {
   "cell_type": "code",
   "execution_count": 9,
   "id": "c184ca44",
   "metadata": {},
   "outputs": [
    {
     "name": "stdout",
     "output_type": "stream",
     "text": [
      "0    1\n",
      "1    2\n",
      "2    3\n",
      "3    4\n",
      "Name: Integer column, dtype: object\n"
     ]
    }
   ],
   "source": [
    "df['Integer column'] = df['Integer column'].astype('str') #converting the int to str\n",
    "print(df['Integer column'])\n"
   ]
  },
  {
   "cell_type": "code",
   "execution_count": 10,
   "id": "203e1751",
   "metadata": {},
   "outputs": [
    {
     "data": {
      "text/plain": [
       "a    int64\n",
       "dtype: object"
      ]
     },
     "execution_count": 10,
     "metadata": {},
     "output_type": "execute_result"
    }
   ],
   "source": [
    "df1 = pd.DataFrame({'a': [2334334,343434]}) #depends on the integer if it is small int32 \n",
    "                                            #if it is big it will prints the type of the variable is int64\n",
    "df1\n",
    "df1.dtypes"
   ]
  },
  {
   "cell_type": "code",
   "execution_count": 12,
   "id": "4fdab9b9",
   "metadata": {},
   "outputs": [
    {
     "name": "stdout",
     "output_type": "stream",
     "text": [
      "   String col    Name  Integer column Mixed column Missing column  \\\n",
      "0         1.0    Gopi             1.0            a              a   \n",
      "1         2.0  Kamran             2.0            2              2   \n",
      "2         3.0    Suri             3.0          3.1              3   \n",
      "3         4.0    Giri             4.0            d            NaN   \n",
      "\n",
      "   Float column Boolean column Money available Custom  \n",
      "0           1.0           True           200/-      Y  \n",
      "1           2.0          False           300/-      Y  \n",
      "2           3.0           True            20/-      N  \n",
      "3           4.0           True           100/-      N  \n"
     ]
    }
   ],
   "source": [
    "#Converting the ,multiple columns to particular data type\n",
    "#eg:- int to float \n",
    "df = df.astype({'Integer column':'float','Float column':'float','String col':'float'}) #in dictionary we can give column name as key and valus as data type in python\n",
    "print(df)  #3 columns will be printed as float data type"
   ]
  },
  {
   "cell_type": "code",
   "execution_count": 17,
   "id": "b3adf6b4",
   "metadata": {},
   "outputs": [
    {
     "ename": "TypeError",
     "evalue": "cannot convert the series to <class 'float'>",
     "output_type": "error",
     "traceback": [
      "\u001b[1;31m---------------------------------------------------------------------------\u001b[0m",
      "\u001b[1;31mTypeError\u001b[0m                                 Traceback (most recent call last)",
      "Input \u001b[1;32mIn [17]\u001b[0m, in \u001b[0;36m<cell line: 2>\u001b[1;34m()\u001b[0m\n\u001b[0;32m      1\u001b[0m value \u001b[38;5;241m=\u001b[39m value\u001b[38;5;241m.\u001b[39mreplace(\u001b[38;5;124m'\u001b[39m\u001b[38;5;124m/-\u001b[39m\u001b[38;5;124m'\u001b[39m,\u001b[38;5;124m'\u001b[39m\u001b[38;5;124m'\u001b[39m)\n\u001b[1;32m----> 2\u001b[0m x \u001b[38;5;241m=\u001b[39m (\u001b[38;5;28;43mfloat\u001b[39;49m\u001b[43m(\u001b[49m\u001b[43mvalue\u001b[49m\u001b[43m)\u001b[49m)\n\u001b[0;32m      3\u001b[0m df[\u001b[38;5;124m'\u001b[39m\u001b[38;5;124mMoney available\u001b[39m\u001b[38;5;124m'\u001b[39m]\u001b[38;5;241m.\u001b[39mapply(x)\n",
      "File \u001b[1;32m~\\anaconda3\\lib\\site-packages\\pandas\\core\\series.py:185\u001b[0m, in \u001b[0;36m_coerce_method.<locals>.wrapper\u001b[1;34m(self)\u001b[0m\n\u001b[0;32m    183\u001b[0m \u001b[38;5;28;01mif\u001b[39;00m \u001b[38;5;28mlen\u001b[39m(\u001b[38;5;28mself\u001b[39m) \u001b[38;5;241m==\u001b[39m \u001b[38;5;241m1\u001b[39m:\n\u001b[0;32m    184\u001b[0m     \u001b[38;5;28;01mreturn\u001b[39;00m converter(\u001b[38;5;28mself\u001b[39m\u001b[38;5;241m.\u001b[39miloc[\u001b[38;5;241m0\u001b[39m])\n\u001b[1;32m--> 185\u001b[0m \u001b[38;5;28;01mraise\u001b[39;00m \u001b[38;5;167;01mTypeError\u001b[39;00m(\u001b[38;5;124mf\u001b[39m\u001b[38;5;124m\"\u001b[39m\u001b[38;5;124mcannot convert the series to \u001b[39m\u001b[38;5;132;01m{\u001b[39;00mconverter\u001b[38;5;132;01m}\u001b[39;00m\u001b[38;5;124m\"\u001b[39m)\n",
      "\u001b[1;31mTypeError\u001b[0m: cannot convert the series to <class 'float'>"
     ]
    }
   ],
   "source": [
    "value = value.replace('/-','')\n",
    "x = (float(value))\n",
    "df['Money available'].apply(x)"
   ]
  },
  {
   "cell_type": "code",
   "execution_count": null,
   "id": "8d5ab8ec",
   "metadata": {},
   "outputs": [],
   "source": []
  },
  {
   "cell_type": "code",
   "execution_count": null,
   "id": "a92bfceb",
   "metadata": {},
   "outputs": [],
   "source": []
  }
 ],
 "metadata": {
  "kernelspec": {
   "display_name": "Python 3 (ipykernel)",
   "language": "python",
   "name": "python3"
  },
  "language_info": {
   "codemirror_mode": {
    "name": "ipython",
    "version": 3
   },
   "file_extension": ".py",
   "mimetype": "text/x-python",
   "name": "python",
   "nbconvert_exporter": "python",
   "pygments_lexer": "ipython3",
   "version": "3.9.12"
  }
 },
 "nbformat": 4,
 "nbformat_minor": 5
}
