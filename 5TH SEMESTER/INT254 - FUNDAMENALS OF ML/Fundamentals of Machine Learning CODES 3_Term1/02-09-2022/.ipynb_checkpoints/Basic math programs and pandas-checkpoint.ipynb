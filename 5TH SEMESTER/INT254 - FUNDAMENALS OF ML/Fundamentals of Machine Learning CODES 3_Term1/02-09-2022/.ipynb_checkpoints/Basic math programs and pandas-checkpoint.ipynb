{
 "cells": [
  {
   "cell_type": "code",
   "execution_count": 1,
   "id": "dcd4d47f",
   "metadata": {},
   "outputs": [
    {
     "name": "stdout",
     "output_type": "stream",
     "text": [
      "Addition of two numbers is 10\n",
      "Subtraction of two numbers is 0\n",
      "Multiplication of two numbers is 25\n",
      "Divison of two numbers is 1\n",
      "Power of two numbers is 3125\n"
     ]
    }
   ],
   "source": [
    "class Maths:\n",
    "    def add(self,x,y):\n",
    "        print(\"Addition of two numbers is \"+ str(x+y))\n",
    "    def sub(self,x,y):\n",
    "        print(\"Subtraction of two numbers is \"+ str(x-y))\n",
    "    def mul(self,x,y):\n",
    "        print(\"Multiplication of two numbers is \"+ str(x*y))\n",
    "    def div(self,x,y):\n",
    "        print(\"Divison of two numbers is \"+ str(x//y))\n",
    "    def power(self,x,y):\n",
    "        print(\"Power of two numbers is \"+str(x**y))\n",
    "\n",
    "x = 5\n",
    "y = 5\n",
    "\n",
    "obj = Maths()\n",
    "obj.add(x,y)\n",
    "obj.sub(x,y)\n",
    "obj.mul(x,y)\n",
    "obj.div(x,y)\n",
    "obj.power(x,y)\n",
    "\n"
   ]
  },
  {
   "cell_type": "code",
   "execution_count": 2,
   "id": "22852102",
   "metadata": {},
   "outputs": [
    {
     "name": "stdout",
     "output_type": "stream",
     "text": [
      "{'Name': ['Gopi', 'Kamran', 'Sai'], 'Age': ['12', '13', '14'], 'Branch': ['ML', 'ML', 'Data science']}\n"
     ]
    }
   ],
   "source": [
    "data = {'Name':['Gopi','Kamran','Sai'],'Age':['12','13','14'],'Branch':['ML','ML','Data science']}\n",
    "print(data)"
   ]
  },
  {
   "cell_type": "code",
   "execution_count": 4,
   "id": "49432340",
   "metadata": {},
   "outputs": [
    {
     "name": "stdout",
     "output_type": "stream",
     "text": [
      "     Name  Age        Branch\n",
      "x    Gopi   12            ML\n",
      "y  Kamran   13            ML\n",
      "z     Sai   14  Data science\n"
     ]
    }
   ],
   "source": [
    "import pandas as pd\n",
    "data = {'Name':['Gopi','Kamran','Sai'],'Age':[12,13,14],'Branch':['ML','ML','Data science']}\n",
    "df = pd.DataFrame(data,columns= ['Name','Age','Branch'],index=['x','y','z'])\n",
    "                                                       #changing the index values according to our conveinence...\n",
    "print(df)"
   ]
  },
  {
   "cell_type": "code",
   "execution_count": 5,
   "id": "3ebfe88f",
   "metadata": {},
   "outputs": [
    {
     "data": {
      "text/plain": [
       "ML              2\n",
       "Data science    1\n",
       "Name: Branch, dtype: int64"
      ]
     },
     "execution_count": 5,
     "metadata": {},
     "output_type": "execute_result"
    }
   ],
   "source": [
    "df['Branch'].value_counts() #counting the values in the particular column using .value_counts() function"
   ]
  },
  {
   "cell_type": "code",
   "execution_count": null,
   "id": "49e906f9",
   "metadata": {},
   "outputs": [],
   "source": []
  }
 ],
 "metadata": {
  "kernelspec": {
   "display_name": "Python 3 (ipykernel)",
   "language": "python",
   "name": "python3"
  },
  "language_info": {
   "codemirror_mode": {
    "name": "ipython",
    "version": 3
   },
   "file_extension": ".py",
   "mimetype": "text/x-python",
   "name": "python",
   "nbconvert_exporter": "python",
   "pygments_lexer": "ipython3",
   "version": "3.9.12"
  }
 },
 "nbformat": 4,
 "nbformat_minor": 5
}
