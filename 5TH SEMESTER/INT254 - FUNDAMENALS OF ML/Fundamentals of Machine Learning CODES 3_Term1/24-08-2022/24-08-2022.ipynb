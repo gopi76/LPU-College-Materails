{
 "cells": [
  {
   "cell_type": "code",
   "execution_count": 5,
   "id": "98ad34e0",
   "metadata": {},
   "outputs": [],
   "source": [
    "import numpy as np\n",
    "\n",
    "a1 = np.array([[16,1,2,3],[4,5,6,7],[8,9,17,11],[12,13,14,15]])"
   ]
  },
  {
   "cell_type": "code",
   "execution_count": 6,
   "id": "3398c3cf",
   "metadata": {},
   "outputs": [
    {
     "data": {
      "text/plain": [
       "array([[16,  1,  2,  3],\n",
       "       [ 4,  5,  6,  7],\n",
       "       [ 8,  9, 17, 11],\n",
       "       [12, 13, 14, 15]])"
      ]
     },
     "execution_count": 6,
     "metadata": {},
     "output_type": "execute_result"
    }
   ],
   "source": [
    "a1"
   ]
  },
  {
   "cell_type": "markdown",
   "id": "b8b3c4bf",
   "metadata": {},
   "source": [
    "# Transposing the matrix"
   ]
  },
  {
   "cell_type": "code",
   "execution_count": 7,
   "id": "4402eb87",
   "metadata": {},
   "outputs": [
    {
     "name": "stdout",
     "output_type": "stream",
     "text": [
      "[[16  4  8 12]\n",
      " [ 1  5  9 13]\n",
      " [ 2  6 17 14]\n",
      " [ 3  7 11 15]]\n"
     ]
    }
   ],
   "source": [
    "print(np.transpose(a1))  #using inbulit function"
   ]
  },
  {
   "cell_type": "code",
   "execution_count": 8,
   "id": "a8852157",
   "metadata": {},
   "outputs": [
    {
     "name": "stdout",
     "output_type": "stream",
     "text": [
      "[16, 4, 8, 12]\n",
      "[1, 5, 9, 13]\n",
      "[2, 6, 17, 14]\n",
      "[3, 7, 11, 15]\n"
     ]
    }
   ],
   "source": [
    "result = [[0,0,0,0],[0,0,0,0],[0,0,0,0],[0,0,0,0]]  #transposing the matrix without inbulit function \n",
    "#using loops\n",
    "\n",
    "# iterate through rows\n",
    "for i in range(len(a1)):\n",
    "   # iterate through columns\n",
    "   for j in range(len(a1[0])):\n",
    "       result[j][i] = a1[i][j]\n",
    "\n",
    "for r in result:\n",
    "   print(r)"
   ]
  },
  {
   "cell_type": "code",
   "execution_count": 11,
   "id": "b6a75c8e",
   "metadata": {},
   "outputs": [
    {
     "data": {
      "text/plain": [
       "array([[16,  4,  8, 12],\n",
       "       [ 1,  5,  9, 13],\n",
       "       [ 2,  6, 17, 14],\n",
       "       [ 3,  7, 11, 15]])"
      ]
     },
     "execution_count": 11,
     "metadata": {},
     "output_type": "execute_result"
    }
   ],
   "source": [
    "def transpose(a1):\n",
    "    for i in range(len(a1)):\n",
    "        for j in range(i+1,len(a1)):\n",
    "            a1[i][j],a1[j][i] = a1[j][i],a1[i][j]\n",
    "    return a1\n",
    "\n",
    "transpose(a1)\n",
    "#print(len(a1))\n",
    "            "
   ]
  },
  {
   "cell_type": "markdown",
   "id": "1d9d8412",
   "metadata": {},
   "source": [
    "# determinant of matrix"
   ]
  },
  {
   "cell_type": "code",
   "execution_count": 13,
   "id": "2b4555cd",
   "metadata": {},
   "outputs": [
    {
     "name": "stdout",
     "output_type": "stream",
     "text": [
      "-1792\n"
     ]
    }
   ],
   "source": [
    "det = np.linalg.det(a1)\n",
    "print(int(det))"
   ]
  },
  {
   "cell_type": "markdown",
   "id": "b67238d6",
   "metadata": {},
   "source": [
    "# inverse of the matrix"
   ]
  },
  {
   "cell_type": "code",
   "execution_count": 14,
   "id": "98da22f9",
   "metadata": {},
   "outputs": [
    {
     "name": "stdout",
     "output_type": "stream",
     "text": [
      "[[ 0.0625     -0.09375     0.          0.03125   ]\n",
      " [-0.09375    -0.76116071 -0.07142857  0.80133929]\n",
      " [ 0.         -0.07142857  0.14285714 -0.07142857]\n",
      " [ 0.03125     0.42633929 -0.07142857 -0.26116071]]\n"
     ]
    }
   ],
   "source": [
    "print(np.linalg.inv(a1))"
   ]
  },
  {
   "cell_type": "code",
   "execution_count": null,
   "id": "0af813a0",
   "metadata": {},
   "outputs": [],
   "source": []
  }
 ],
 "metadata": {
  "kernelspec": {
   "display_name": "Python 3 (ipykernel)",
   "language": "python",
   "name": "python3"
  },
  "language_info": {
   "codemirror_mode": {
    "name": "ipython",
    "version": 3
   },
   "file_extension": ".py",
   "mimetype": "text/x-python",
   "name": "python",
   "nbconvert_exporter": "python",
   "pygments_lexer": "ipython3",
   "version": "3.9.12"
  }
 },
 "nbformat": 4,
 "nbformat_minor": 5
}
