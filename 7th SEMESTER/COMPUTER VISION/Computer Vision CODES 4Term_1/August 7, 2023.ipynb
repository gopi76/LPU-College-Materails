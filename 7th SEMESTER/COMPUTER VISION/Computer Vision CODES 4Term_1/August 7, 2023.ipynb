{
 "cells": [
  {
   "cell_type": "markdown",
   "id": "5dbb64e4",
   "metadata": {},
   "source": [
    "program for histogram equalization"
   ]
  },
  {
   "cell_type": "code",
   "execution_count": 1,
   "id": "ccf31eb5",
   "metadata": {},
   "outputs": [],
   "source": [
    "#impoting libraries\n",
    "\n",
    "import cv2\n",
    "\n",
    "import numpy as np"
   ]
  },
  {
   "cell_type": "code",
   "execution_count": 2,
   "id": "143d7ebe",
   "metadata": {},
   "outputs": [],
   "source": [
    "img = cv2.imread('research intern.png', 0)  #reading the image using imread"
   ]
  },
  {
   "cell_type": "code",
   "execution_count": 3,
   "id": "bcd4ff3b",
   "metadata": {},
   "outputs": [],
   "source": [
    "#\n",
    "\n",
    "equ = cv2.equalizeHist(img)"
   ]
  },
  {
   "cell_type": "code",
   "execution_count": 4,
   "id": "d9a9403f",
   "metadata": {},
   "outputs": [],
   "source": [
    "res = np.hstack((img, equ))\n",
    "\n",
    "cv2.imshow('image', res)\n",
    "\n",
    "cv2.waitKey(0)\n",
    "cv2.destroyAllWindows()\n"
   ]
  },
  {
   "cell_type": "code",
   "execution_count": 5,
   "id": "87a029be",
   "metadata": {},
   "outputs": [],
   "source": [
    "#R = img[:, :, 0]\n",
    "#G = img[:, :, 1]\n",
    "#B = img[:, :, 2]\n",
    "\n"
   ]
  },
  {
   "cell_type": "markdown",
   "id": "39888dca",
   "metadata": {},
   "source": [
    "# Program for Adaptive Histogram Equalization"
   ]
  },
  {
   "cell_type": "code",
   "execution_count": 6,
   "id": "83bdf772",
   "metadata": {},
   "outputs": [],
   "source": [
    "img = cv2.imread('research intern.png')\n",
    "\n",
    "img = cv2.resize(img, (500, 600))\n",
    "\n",
    "img_bw = cv2.cvtColor(img, cv2.COLOR_BGR2GRAY)\n",
    "\n",
    "clahe = cv2.createCLAHE(clipLimit = 5)\n",
    "final_img = clahe.apply(img_bw) + 30"
   ]
  },
  {
   "cell_type": "code",
   "execution_count": 7,
   "id": "37b587d3",
   "metadata": {},
   "outputs": [],
   "source": [
    "#ordinary_img = cv2.threshold(img_bw, 155, 255, cv2.THRESH_BINARY)\n",
    "\n",
    "#cv2.imshow(\"ordinary threshold\", ordinary_img)\n",
    "\n",
    "cv2.imshow(\"CLAHE img\", final_img)"
   ]
  },
  {
   "cell_type": "markdown",
   "id": "91d8f1fd",
   "metadata": {},
   "source": [
    "Histogram matching"
   ]
  },
  {
   "cell_type": "code",
   "execution_count": 3,
   "id": "5629bce4",
   "metadata": {},
   "outputs": [],
   "source": [
    "import matplotlib.pyplot as plt\n",
    "from skimage import exposure\n",
    "from skimage.exposure import match_histograms\n",
    "import cv2\n",
    "import numpy as np"
   ]
  },
  {
   "cell_type": "code",
   "execution_count": 8,
   "id": "cf3f4252",
   "metadata": {},
   "outputs": [],
   "source": [
    "img1 = cv2.imread(\"research inter.png\")\n",
    "\n",
    "\n",
    "img2 = cv2.imread(\"pancard.png\")\n"
   ]
  },
  {
   "cell_type": "code",
   "execution_count": null,
   "id": "92d5c072",
   "metadata": {},
   "outputs": [],
   "source": [
    "matched = match_histograms(img1, img2, multichannel = True)"
   ]
  },
  {
   "cell_type": "code",
   "execution_count": null,
   "id": "3a69cf92",
   "metadata": {},
   "outputs": [],
   "source": []
  }
 ],
 "metadata": {
  "kernelspec": {
   "display_name": "Python 3 (ipykernel)",
   "language": "python",
   "name": "python3"
  },
  "language_info": {
   "codemirror_mode": {
    "name": "ipython",
    "version": 3
   },
   "file_extension": ".py",
   "mimetype": "text/x-python",
   "name": "python",
   "nbconvert_exporter": "python",
   "pygments_lexer": "ipython3",
   "version": "3.9.12"
  }
 },
 "nbformat": 4,
 "nbformat_minor": 5
}
