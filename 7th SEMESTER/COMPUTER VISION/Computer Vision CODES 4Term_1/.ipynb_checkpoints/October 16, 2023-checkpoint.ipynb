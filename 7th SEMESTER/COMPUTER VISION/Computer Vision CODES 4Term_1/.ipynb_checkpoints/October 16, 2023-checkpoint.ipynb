{
 "cells": [
  {
   "cell_type": "code",
   "execution_count": null,
   "id": "f67d4150",
   "metadata": {},
   "outputs": [],
   "source": [
    "import numpy as np\n",
    "import cv2"
   ]
  },
  {
   "cell_type": "code",
   "execution_count": null,
   "id": "014193e2",
   "metadata": {},
   "outputs": [],
   "source": [
    "img1 = cv2.imread('pancard.png', cv2.IMREAD_GRAYSCALE)\n",
    "img2 = cv2.imread('research intern.png', cv2.IMREAD_GRAYSCALE)"
   ]
  },
  {
   "cell_type": "code",
   "execution_count": null,
   "id": "f4dc89d8",
   "metadata": {},
   "outputs": [],
   "source": [
    "orb = cv2.ORB_create()"
   ]
  },
  {
   "cell_type": "code",
   "execution_count": null,
   "id": "29eb38f7",
   "metadata": {},
   "outputs": [],
   "source": [
    "k1, d1 = orb.detectAndCompute(img1, None)\n",
    "k2, d2 = orb.detectAndCompute(img2, None)"
   ]
  },
  {
   "cell_type": "code",
   "execution_count": null,
   "id": "b09a98ce",
   "metadata": {},
   "outputs": [],
   "source": [
    "bf = cv2.BFMatcher(cv2.NORM_HAMMING, crossCheck = True)\n"
   ]
  },
  {
   "cell_type": "code",
   "execution_count": null,
   "id": "9695567d",
   "metadata": {},
   "outputs": [],
   "source": [
    "matches = bf.match(d1, d2)\n",
    "\n",
    "matches = sorted(matches, key = lambda x:x.distance)"
   ]
  },
  {
   "cell_type": "code",
   "execution_count": null,
   "id": "f5e3fbc3",
   "metadata": {},
   "outputs": [],
   "source": [
    "matched_img = cv2.drawMatches(img1, k1, img2, k2, matches[:10], None,flags = cv2.DrawMatchesFlags_NOT_DRAW_SINGLE_POINTS)"
   ]
  },
  {
   "cell_type": "code",
   "execution_count": null,
   "id": "1ed3ea80",
   "metadata": {},
   "outputs": [],
   "source": [
    "cv2.imshow('Matches', matched_img)"
   ]
  },
  {
   "cell_type": "code",
   "execution_count": null,
   "id": "ffe6ed3c",
   "metadata": {},
   "outputs": [],
   "source": [
    "cv2.waitKey(0)\n",
    "cv2.destroyAllWindows()"
   ]
  },
  {
   "cell_type": "code",
   "execution_count": null,
   "id": "288db487",
   "metadata": {},
   "outputs": [],
   "source": [
    "sift = cv2.SIFT_create()\n",
    "\n",
    "k1, d1 = sift.detectAndCompute(img1, None)\n",
    "k2, d2 = sift.detectAndCompute(img2, None)\n",
    "\n",
    "bf = cv2.BFMatcher()\n",
    "\n",
    "matches = bf.knnMatch(d1, d2, k = 2)\n",
    "\n",
    "good_matches = []\n",
    "for m, n in good_matches:\n",
    "    if m.distance < 0.75 * n.distance:\n",
    "        good_matches.append(m)\n",
    "        \n",
    "        \n",
    "matched_img = cv2.drawMatches(img1, k1, img2, k2, good_matches, None,flags = cv2.DrawMatchesFlags_NOT_DRAW_SINGLE_POINTS)\n",
    "\n",
    "cv2.imshow('Matches', matched_img)\n",
    "\n",
    "cv2.waitKey(0)\n",
    "cv2.destroyAllWindows()"
   ]
  },
  {
   "cell_type": "code",
   "execution_count": null,
   "id": "33f937a1",
   "metadata": {},
   "outputs": [],
   "source": [
    "hist1 = np.array([0.1, 0.2, 0.3, 0.4], dtype = np.float32)\n",
    "hist2 = np.array([0.2, 0.3, 0.25, 0.25], dtype = np.float32)\n",
    "\n",
    "hist1 = hist1.reshape((1, 4))\n",
    "hist2 = hist2.reshape((1, 4))\n",
    "\n",
    "emd_distance,_ = cv2.EMD(hist1, hist2, cv2.DIST_L2)\n",
    "\n",
    "print(\"Earth Movers Distance : \", emd_distance)"
   ]
  },
  {
   "cell_type": "code",
   "execution_count": null,
   "id": "7cde11fb",
   "metadata": {},
   "outputs": [],
   "source": [
    "import numpy as np \n",
    "import cv2\n",
    "\n",
    "img1 = cv2.imread('pancard.png', 0)\n",
    "img2 = cv2.imread('research intern.png', 0)\n",
    "\n",
    "\n",
    "hist1 = cv2.calcHist([img1], [0], None, [256], [0, 256])\n",
    "hist2 = cv2.calcHist([img2], [0], None, [256], [0, 256])\n",
    "\n",
    "\n",
    "hist1 /= hist1.sum()\n",
    "hist2 /= hist2.sum()\n",
    "\n",
    "distmatrix = np.zeros((256, 256), dtype = np.float32)\n",
    "\n",
    "for i in range[256]:\n",
    "    for j in range[256]:\n",
    "        distmatrix[i][j] = abs[i-j]\n",
    "        \n",
    "emd_distance,_ = cv2.EMD(hist1, hist2, cv2.DIST_L2, distmatrix)\n",
    "\n",
    "print(\"Earth Movers Distance : \", emd_distance)\n",
    "\n",
    " "
   ]
  },
  {
   "cell_type": "code",
   "execution_count": null,
   "id": "00833bf5",
   "metadata": {},
   "outputs": [],
   "source": [
    "import numpy as np \n",
    "import cv2\n",
    "\n",
    "data = np.array([[2, 3], [5, 4], [9, 6], [4, 7], [8, 1],[7, 2]], dtype = np.float32)\n",
    "\n",
    "index_params = dict(algorithm = 1, trees = 5, )\n",
    "search = dict(checks = 50)\n",
    "\n",
    "flann = cv2.FlannBasedMatcher(index_params, search)\n",
    "\n",
    "flann.add([data])\n",
    "query = np.array([[3, 5]], dtype = np.float32)\n",
    "\n",
    "_, idx, _ = flann.knnSearch(query, 1, params = {})\n",
    "\n",
    "near_neighbour = data[idxs.ravel()]\n",
    "\n",
    "print(\"Qury point : \", query)\n",
    "print(\"Nearest Neighbour : \", near_neighbour)"
   ]
  }
 ],
 "metadata": {
  "kernelspec": {
   "display_name": "Python 3 (ipykernel)",
   "language": "python",
   "name": "python3"
  },
  "language_info": {
   "codemirror_mode": {
    "name": "ipython",
    "version": 3
   },
   "file_extension": ".py",
   "mimetype": "text/x-python",
   "name": "python",
   "nbconvert_exporter": "python",
   "pygments_lexer": "ipython3",
   "version": "3.9.12"
  }
 },
 "nbformat": 4,
 "nbformat_minor": 5
}
