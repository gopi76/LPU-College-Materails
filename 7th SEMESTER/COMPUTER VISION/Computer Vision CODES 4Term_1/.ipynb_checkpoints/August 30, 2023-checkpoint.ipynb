{
 "cells": [
  {
   "cell_type": "code",
   "execution_count": 4,
   "id": "d11b8eb6",
   "metadata": {},
   "outputs": [
    {
     "data": {
      "text/plain": [
       "(1080, 1920)"
      ]
     },
     "execution_count": 4,
     "metadata": {},
     "output_type": "execute_result"
    }
   ],
   "source": [
    "import cv2\n",
    "\n",
    "im = cv2.imread('pancard.png', 0)\n",
    "\n",
    "im.shape"
   ]
  },
  {
   "cell_type": "code",
   "execution_count": 6,
   "id": "2566c101",
   "metadata": {},
   "outputs": [],
   "source": [
    "import numpy as np\n",
    "\n",
    "src_pnts = np.array([[51, 791], [63, 143], [444, 211], [426, 719]], np.float32)\n",
    "\n",
    "dest_pnts = np.array([[1, 900], [1, 1], [501, 1], [501, 900]], np.float32)\n",
    "\n"
   ]
  },
  {
   "cell_type": "code",
   "execution_count": 7,
   "id": "bc724cc3",
   "metadata": {},
   "outputs": [],
   "source": [
    "im = cv2.resize(im, [800, 800])"
   ]
  },
  {
   "cell_type": "code",
   "execution_count": 8,
   "id": "72a4cb24",
   "metadata": {},
   "outputs": [
    {
     "data": {
      "text/plain": [
       "(800, 800)"
      ]
     },
     "execution_count": 8,
     "metadata": {},
     "output_type": "execute_result"
    }
   ],
   "source": [
    "im.shape"
   ]
  },
  {
   "cell_type": "code",
   "execution_count": 9,
   "id": "446b0b89",
   "metadata": {},
   "outputs": [],
   "source": [
    "matrix = cv2.getPerspectiveTransform(src_pnts, dest_pnts)"
   ]
  },
  {
   "cell_type": "code",
   "execution_count": 10,
   "id": "cd4ab799",
   "metadata": {},
   "outputs": [
    {
     "name": "stdout",
     "output_type": "stream",
     "text": [
      "[[ 9.79081952e-01  1.80888635e-02 -6.33104064e+01]\n",
      " [-2.30322178e-01  1.28740037e+00 -1.68629492e+02]\n",
      " [-5.40599557e-04 -5.22948563e-05  1.00000000e+00]]\n"
     ]
    }
   ],
   "source": [
    "print(matrix)"
   ]
  },
  {
   "cell_type": "code",
   "execution_count": 11,
   "id": "66601083",
   "metadata": {},
   "outputs": [],
   "source": [
    "transformed_img = cv2.warpPerspective(im, matrix, [900, 900])"
   ]
  },
  {
   "cell_type": "code",
   "execution_count": null,
   "id": "ad5d0cf5",
   "metadata": {},
   "outputs": [],
   "source": [
    "cv2_imshow(transformed_img)"
   ]
  },
  {
   "cell_type": "code",
   "execution_count": null,
   "id": "2fe986e2",
   "metadata": {},
   "outputs": [],
   "source": []
  }
 ],
 "metadata": {
  "kernelspec": {
   "display_name": "Python 3 (ipykernel)",
   "language": "python",
   "name": "python3"
  },
  "language_info": {
   "codemirror_mode": {
    "name": "ipython",
    "version": 3
   },
   "file_extension": ".py",
   "mimetype": "text/x-python",
   "name": "python",
   "nbconvert_exporter": "python",
   "pygments_lexer": "ipython3",
   "version": "3.9.12"
  }
 },
 "nbformat": 4,
 "nbformat_minor": 5
}
