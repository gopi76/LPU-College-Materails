{
 "cells": [
  {
   "cell_type": "markdown",
   "id": "31dd01a5",
   "metadata": {},
   "source": [
    "# LINEAR TRIANGULATION"
   ]
  },
  {
   "cell_type": "code",
   "execution_count": 1,
   "id": "7ac8bfe1",
   "metadata": {},
   "outputs": [],
   "source": [
    "import cv2\n",
    "import numpy as np\n",
    "\n",
    "K1 = np.array([[500,0, 320],[0, 500, 240],[0, 0, 1]])\n",
    "K2 = np.array([[500,0, 320],[0, 500, 240],[0, 0, 1]])\n",
    "\n"
   ]
  },
  {
   "cell_type": "code",
   "execution_count": 2,
   "id": "a9f30f19",
   "metadata": {},
   "outputs": [],
   "source": [
    "P1 = np.hstack((K1, np.zeros((3, 1))))\n",
    "R2 = np.array([[1, 0, 0], [0, 1, 0], [0, 0, 1]])\n",
    "\n",
    "\n",
    "t2 = np.array([[1], [0], [0]])\n",
    "P2 = np.hstack((K2, t2))"
   ]
  },
  {
   "cell_type": "code",
   "execution_count": 3,
   "id": "a1af69c1",
   "metadata": {},
   "outputs": [],
   "source": [
    "x1 = np.array([300, 200])\n",
    "x2 = np.array([250, 250])\n",
    "\n",
    "X_homogeneous = cv2.triangulatePoints(P1, P2, x1, x2)"
   ]
  },
  {
   "cell_type": "code",
   "execution_count": 4,
   "id": "12f4b4ed",
   "metadata": {},
   "outputs": [
    {
     "name": "stdout",
     "output_type": "stream",
     "text": [
      "[[0]\n",
      " [0]\n",
      " [0]\n",
      " [0]]\n"
     ]
    }
   ],
   "source": [
    "print(X_homogeneous)"
   ]
  },
  {
   "cell_type": "code",
   "execution_count": null,
   "id": "152a2377",
   "metadata": {},
   "outputs": [],
   "source": []
  }
 ],
 "metadata": {
  "kernelspec": {
   "display_name": "Python 3 (ipykernel)",
   "language": "python",
   "name": "python3"
  },
  "language_info": {
   "codemirror_mode": {
    "name": "ipython",
    "version": 3
   },
   "file_extension": ".py",
   "mimetype": "text/x-python",
   "name": "python",
   "nbconvert_exporter": "python",
   "pygments_lexer": "ipython3",
   "version": "3.9.12"
  }
 },
 "nbformat": 4,
 "nbformat_minor": 5
}
