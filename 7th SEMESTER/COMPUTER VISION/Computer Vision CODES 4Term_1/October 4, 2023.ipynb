{
 "cells": [
  {
   "cell_type": "code",
   "execution_count": 1,
   "id": "158abf16",
   "metadata": {},
   "outputs": [],
   "source": [
    "import numpy as np\n",
    "import cv2 as cv\n",
    "\n",
    "img = cv.imread('pancard.png')\n",
    "gray = cv.cvtColor(img, cv.COLOR_BGR2GRAY)"
   ]
  },
  {
   "cell_type": "code",
   "execution_count": 3,
   "id": "663d946e",
   "metadata": {},
   "outputs": [
    {
     "data": {
      "text/plain": [
       "True"
      ]
     },
     "execution_count": 3,
     "metadata": {},
     "output_type": "execute_result"
    }
   ],
   "source": [
    "sift = cv.SIFT_create()\n",
    "kp = sift.detect(gray, None)\n",
    "\n",
    "img = cv.drawKeypoints(gray, kp, img)\n",
    "\n",
    "cv.imwrite('sift keypoints.jpg', img)"
   ]
  },
  {
   "cell_type": "code",
   "execution_count": 7,
   "id": "7910319f",
   "metadata": {},
   "outputs": [
    {
     "name": "stdout",
     "output_type": "stream",
     "text": [
      "Threshold:10\n",
      "nonmaxSupperssion:True\n",
      "neighborhood:2\n",
      "Total Keypoints with nonmaxSuppression:12473\n"
     ]
    },
    {
     "data": {
      "text/plain": [
       "True"
      ]
     },
     "execution_count": 7,
     "metadata": {},
     "output_type": "execute_result"
    }
   ],
   "source": [
    "import numpy as np\n",
    "import cv2 as cv\n",
    "\n",
    "from matplotlib import pyplot as plt\n",
    "\n",
    "img = cv.imread('pancard.png', 0)\n",
    "fast = cv.FastFeatureDetector_create()\n",
    "\n",
    "kp = fast.detect(img, None)\n",
    "\n",
    "img2 = cv.drawKeypoints(img, kp, None, color = [255, 0, 0])\n",
    "\n",
    "print(\"Threshold:{}\".format(fast.getThreshold()))\n",
    "print(\"nonmaxSupperssion:{}\".format(fast.getNonmaxSuppression()))\n",
    "print(\"neighborhood:{}\".format(fast.getType()))\n",
    "print(\"Total Keypoints with nonmaxSuppression:{}\".format(len(kp)))\n",
    "\n",
    "cv.imwrite('fast_true.png',img2)\n"
   ]
  },
  {
   "cell_type": "code",
   "execution_count": null,
   "id": "138b1567",
   "metadata": {},
   "outputs": [],
   "source": []
  }
 ],
 "metadata": {
  "kernelspec": {
   "display_name": "Python 3 (ipykernel)",
   "language": "python",
   "name": "python3"
  },
  "language_info": {
   "codemirror_mode": {
    "name": "ipython",
    "version": 3
   },
   "file_extension": ".py",
   "mimetype": "text/x-python",
   "name": "python",
   "nbconvert_exporter": "python",
   "pygments_lexer": "ipython3",
   "version": "3.9.12"
  }
 },
 "nbformat": 4,
 "nbformat_minor": 5
}
