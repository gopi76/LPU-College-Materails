{
 "cells": [
  {
   "cell_type": "code",
   "execution_count": 1,
   "id": "65102a80",
   "metadata": {},
   "outputs": [],
   "source": [
    "import cv2\n",
    "import numpy as np\n",
    "# Load the two images\n",
    "img1 = cv2.imread('pancard.png', 0)\n",
    "img2 = cv2.imread('research intern.png', 0)\n",
    "\n",
    "# Define corresponding points)\n",
    "pts1 = np.array([\n",
    "    [100, 200],\n",
    "    [150, 180],\n",
    "    [200, 160],\n",
    "    [250, 140],\n",
    "    [300, 120],\n",
    "    [350, 100],\n",
    "    [400, 80],\n",
    "    [450, 60]\n",
    "], dtype=np.float32)\n",
    "\n",
    "pts2 = np.array([\n",
    "    [300, 50],\n",
    "    [350, 70],\n",
    "    [400, 90],\n",
    "    [450, 110],\n",
    "    [500, 130],\n",
    "    [550, 150],\n",
    "    [600, 170],\n",
    "    [650, 190]\n",
    "], dtype=np.float32)\n",
    "\n"
   ]
  },
  {
   "cell_type": "code",
   "execution_count": 2,
   "id": "e0e552d3",
   "metadata": {},
   "outputs": [
    {
     "name": "stdout",
     "output_type": "stream",
     "text": [
      "Estimated Essential Matrix:\n",
      "[[-0.17503769 -0.2446146   0.09334363]\n",
      " [ 0.23845178  0.11368067  0.65577755]\n",
      " [-0.34219605 -0.48740209  0.21523661]]\n"
     ]
    }
   ],
   "source": [
    "# Normalize the points\n",
    "pts1_normalized = cv2.normalize(pts1, None, 0, 1, cv2.NORM_MINMAX)\n",
    "pts2_normalized = cv2.normalize(pts2, None, 0, 1, cv2.NORM_MINMAX)\n",
    "# Estimate the essential matrix using the normalized points\n",
    "F, _ = cv2.findEssentialMat(pts1_normalized, pts2_normalized)\n",
    "# Print the estimated essential matrix\n",
    "print(\"Estimated Essential Matrix:\")\n",
    "print(F)\n"
   ]
  },
  {
   "cell_type": "code",
   "execution_count": 6,
   "id": "fb6a51fa",
   "metadata": {},
   "outputs": [
    {
     "name": "stdout",
     "output_type": "stream",
     "text": [
      "Estimated Fundamental Matrix:\n",
      "None\n"
     ]
    }
   ],
   "source": [
    "# Estimate the fundamental matrix using the normalized \n",
    "\n",
    "F, _ = cv2.findFundamentalMat(pts1_normalized, pts2_normalized)\n",
    "# Print the estimated fundamental matrix\n",
    "\n",
    "\n",
    "print(\"Estimated Fundamental Matrix:\")\n",
    "print(F)\n",
    "\n"
   ]
  },
  {
   "cell_type": "code",
   "execution_count": null,
   "id": "e627018e",
   "metadata": {},
   "outputs": [],
   "source": []
  }
 ],
 "metadata": {
  "kernelspec": {
   "display_name": "Python 3 (ipykernel)",
   "language": "python",
   "name": "python3"
  },
  "language_info": {
   "codemirror_mode": {
    "name": "ipython",
    "version": 3
   },
   "file_extension": ".py",
   "mimetype": "text/x-python",
   "name": "python",
   "nbconvert_exporter": "python",
   "pygments_lexer": "ipython3",
   "version": "3.9.12"
  }
 },
 "nbformat": 4,
 "nbformat_minor": 5
}
