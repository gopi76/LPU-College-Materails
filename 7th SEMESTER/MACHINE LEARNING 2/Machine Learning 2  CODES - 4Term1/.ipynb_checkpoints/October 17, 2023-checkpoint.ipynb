{
 "cells": [
  {
   "cell_type": "markdown",
   "id": "f192b38e",
   "metadata": {},
   "source": [
    "# Performing the Batch Gradient Descent"
   ]
  },
  {
   "cell_type": "code",
   "execution_count": 2,
   "id": "55ca9add",
   "metadata": {},
   "outputs": [],
   "source": [
    "import numpy as np\n",
    "import matplotlib.pyplot as plt\n",
    "\n",
    "np.random.seed(0)\n",
    "x = 2 * np.random.rand(100, 1)\n",
    "y = 4 + 3 * x + np.random.randn(100, 1)\n",
    "\n",
    "x_b = np.c_[np.ones((100, 1)), x]\n",
    "\n",
    "num_iterations = 1000\n",
    "learning_rate  = 0.01\n",
    "\n",
    "theta  = np.random.randn(2, 1)\n",
    "\n",
    "def compute_cost(x_b, y, theta):\n",
    "    m = len(y)\n",
    "    predictions = x_b.dot(theta)\n",
    "    cost = (1 / (2 * m)) * np.sum(np.square(predictions - y))\n",
    "    return cost\n",
    "\n",
    "cost_history = []\n",
    "for iteration in range(num_iterations):\n",
    "    predictions = x_b.dot(theta)\n",
    "    gradient = (1/ len(y)) * x_b.T.dot(predictions - y)\n",
    "    theta -= learning_rate * gradient\n",
    "    cost = compute_cost(x_b, y, theta)\n",
    "    cost_history.append(cost)"
   ]
  },
  {
   "cell_type": "code",
   "execution_count": 3,
   "id": "bce09505",
   "metadata": {},
   "outputs": [
    {
     "data": {
      "image/png": "[encoded data removed]",
      "text/plain": [
       "<Figure size 432x288 with 1 Axes>"
      ]
     },
     "metadata": {
      "needs_background": "light"
     },
     "output_type": "display_data"
    }
   ],
   "source": [
    "plt.plot(cost_history)\n",
    "plt.xlabel('iterations')\n",
    "plt.ylabel('cost')\n",
    "\n",
    "plt.title('Batch Gradient Descent')\n",
    "plt.show()"
   ]
  },
  {
   "cell_type": "code",
   "execution_count": 4,
   "id": "7370164e",
   "metadata": {},
   "outputs": [
    {
     "name": "stdout",
     "output_type": "stream",
     "text": [
      "Optimized Theta (intercept and slope) :  [4.14146131 3.04006593]\n"
     ]
    }
   ],
   "source": [
    "print(\"Optimized Theta (intercept and slope) : \", theta.ravel())"
   ]
  },
  {
   "cell_type": "code",
   "execution_count": 6,
   "id": "5a0b08f6",
   "metadata": {},
   "outputs": [
    {
     "data": {
      "image/png": "[encoded data removed]",
      "text/plain": [
       "<Figure size 432x288 with 1 Axes>"
      ]
     },
     "metadata": {
      "needs_background": "light"
     },
     "output_type": "display_data"
    }
   ],
   "source": [
    "plt.scatter(x,y, label = 'Data')\n",
    "plt.plot(x, x_b.dot(theta), color = 'red', label = 'Fitted Line')\n",
    "plt.xlabel('X')\n",
    "plt.ylabel('Y')\n",
    "\n",
    "plt.title('Linear Regression using Batch Gradient Descent')\n",
    "plt.legend()\n",
    "plt.show()"
   ]
  },
  {
   "cell_type": "markdown",
   "id": "cc74780d",
   "metadata": {},
   "source": [
    "# Stochastic Gradient Descent"
   ]
  },
  {
   "cell_type": "code",
   "execution_count": 7,
   "id": "cd68ab86",
   "metadata": {},
   "outputs": [
    {
     "ename": "ValueError",
     "evalue": "shapes (1,2) and (100,1) not aligned: 2 (dim 1) != 100 (dim 0)",
     "output_type": "error",
     "traceback": [
      "\u001b[1;31m---------------------------------------------------------------------------\u001b[0m",
      "\u001b[1;31mValueError\u001b[0m                                Traceback (most recent call last)",
      "Input \u001b[1;32mIn [7]\u001b[0m, in \u001b[0;36m<cell line: 24>\u001b[1;34m()\u001b[0m\n\u001b[0;32m     27\u001b[0m xi \u001b[38;5;241m=\u001b[39m np\u001b[38;5;241m.\u001b[39mc_[\u001b[38;5;241m1\u001b[39m, x[random_index]]\n\u001b[0;32m     28\u001b[0m yi \u001b[38;5;241m=\u001b[39m y[random_index]\n\u001b[1;32m---> 29\u001b[0m gradient \u001b[38;5;241m=\u001b[39m \u001b[43mxi\u001b[49m\u001b[38;5;241;43m.\u001b[39;49m\u001b[43mdot\u001b[49m\u001b[43m(\u001b[49m\u001b[43mxi\u001b[49m\u001b[38;5;241;43m.\u001b[39;49m\u001b[43mdot\u001b[49m\u001b[43m(\u001b[49m\u001b[43mtheta\u001b[49m\u001b[43m)\u001b[49m\u001b[43m \u001b[49m\u001b[38;5;241;43m-\u001b[39;49m\u001b[43m \u001b[49m\u001b[43my\u001b[49m\u001b[43m)\u001b[49m\n\u001b[0;32m     30\u001b[0m theta \u001b[38;5;241m=\u001b[39m theat \u001b[38;5;241m-\u001b[39m learning_rate\u001b[38;5;241m*\u001b[39mgradient\n\u001b[0;32m     31\u001b[0m cost  \u001b[38;5;241m=\u001b[39m compute_cost(np\u001b[38;5;241m.\u001b[39mc_[np\u001b[38;5;241m.\u001b[39mones((m, \u001b[38;5;241m1\u001b[39m)), x], y, theta)  \n",
      "\u001b[1;31mValueError\u001b[0m: shapes (1,2) and (100,1) not aligned: 2 (dim 1) != 100 (dim 0)"
     ]
    }
   ],
   "source": [
    "import numpy as np\n",
    "import matplotlib.pyplot as plt\n",
    "\n",
    "np.random.seed(0)\n",
    "x = 2 * np.random.rand(100, 1)\n",
    "y = 4 + 3 * x + np.random.randn(100, 1)\n",
    "\n",
    "x_b = np.c_[np.ones((100, 1)), x]\n",
    "\n",
    "num_iterations = 100\n",
    "learning_rate  = 0.01\n",
    "\n",
    "theta  = np.random.randn(2, 1)\n",
    "\n",
    "def compute_cost(x_b, y, theta):\n",
    "    m = len(y)\n",
    "    predictions = x_b.dot(theta)\n",
    "    cost = (1 / (2 * m)) * np.sum(np.square(predictions - y))\n",
    "    return cost\n",
    "\n",
    "cost_history = []\n",
    "m = len(y)\n",
    "\n",
    "for iteration in range(num_iterations):\n",
    "    for i in range(m):\n",
    "        random_index = np.random.randint(m)\n",
    "        xi = np.c_[1, x[random_index]]\n",
    "        yi = y[random_index]\n",
    "        gradient = xi.dot(xi.dot(theta) - y)\n",
    "        theta = theat - learning_rate*gradient\n",
    "        cost  = compute_cost(np.c_[np.ones((m, 1)), x], y, theta)  \n",
    "        cost_history.append(cost)\n",
    "        \n",
    "plt.plot(cost_history)\n",
    "plt.xlabel('iterations')\n",
    "plt.ylabel('cost')\n",
    "\n",
    "plt.title('Stochastic Gradient Descent')\n",
    "plt.show()\n",
    "\n",
    "\n",
    "print(\"Optimized Theta (intercept and slope) : \", theta.ravel())\n",
    "\n"
   ]
  },
  {
   "cell_type": "code",
   "execution_count": null,
   "id": "4b29461a",
   "metadata": {},
   "outputs": [],
   "source": []
  }
 ],
 "metadata": {
  "kernelspec": {
   "display_name": "Python 3 (ipykernel)",
   "language": "python",
   "name": "python3"
  },
  "language_info": {
   "codemirror_mode": {
    "name": "ipython",
    "version": 3
   },
   "file_extension": ".py",
   "mimetype": "text/x-python",
   "name": "python",
   "nbconvert_exporter": "python",
   "pygments_lexer": "ipython3",
   "version": "3.9.12"
  }
 },
 "nbformat": 4,
 "nbformat_minor": 5
}
