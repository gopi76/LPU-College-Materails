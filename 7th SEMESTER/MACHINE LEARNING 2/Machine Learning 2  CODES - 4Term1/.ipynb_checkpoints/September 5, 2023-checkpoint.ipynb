{
 "cells": [
  {
   "cell_type": "code",
   "execution_count": 1,
   "id": "ac547c05",
   "metadata": {},
   "outputs": [],
   "source": [
    "import pandas as pd\n",
    "import numpy as np\n",
    "import matplotlib.pyplot as plt\n",
    "\n",
    "from sklearn.datasets import load_iris\n",
    "from sklearn.cluster import KMeans\n",
    "from sklearn.metrics import silhouette_samples, silhouette_score"
   ]
  },
  {
   "cell_type": "code",
   "execution_count": 6,
   "id": "bb72df40",
   "metadata": {},
   "outputs": [
    {
     "data": {
      "image/png": "[encoded data removed]",
      "text/plain": [
       "<Figure size 720x432 with 1 Axes>"
      ]
     },
     "metadata": {
      "needs_background": "light"
     },
     "output_type": "display_data"
    }
   ],
   "source": [
    "iris  = load_iris()\n",
    "\n",
    "X = iris.data\n",
    "\n",
    "n_clusters = 5\n",
    "kmeans = KMeans(n_clusters = n_clusters, random_state = 42)\n",
    "predicted_labels = kmeans.fit_predict(X)\n",
    "\n",
    "silhouette_scores = silhouette_samples(X, predicted_labels)\n",
    "silhouette_avg = silhouette_score(X, predicted_labels)\n",
    "\n",
    "plt.figure(figsize = (10, 6))\n",
    "\n",
    "y_lower = 10\n",
    "\n",
    "for i in range(n_clusters):\n",
    "    cluster_silhouette_scores = silhouette_scores[predicted_labels == i]\n",
    "    cluster_silhouette_scores.sort()\n",
    "    \n",
    "    size_cluster_i = cluster_silhouette_scores.shape[0]\n",
    "    y_upper = y_lower + size_cluster_i\n",
    "    \n",
    "    plt.fill_betweenx(np.arange(y_lower, y_upper), 0, cluster_silhouette_scores, alpha = 0.7)\n",
    "    \n",
    "    plt.text(-0.05, y_lower + 0.5 * size_cluster_i, str(i))\n",
    "    y_lower = y_upper + 10\n",
    "    \n",
    "    \n",
    "plt.axvline(x = silhouette_avg, color = 'red', linestyle = '--')\n",
    "\n",
    "plt.title('Silhouette plot')\n",
    "plt.xlabel('silhouette coefficient')\n",
    "plt.ylabel('cluster label')\n",
    "\n",
    "plt.show()"
   ]
  },
  {
   "cell_type": "code",
   "execution_count": 7,
   "id": "90a88282",
   "metadata": {},
   "outputs": [],
   "source": [
    "\n",
    "from sklearn.datasets import make_blobs\n",
    "from scipy.spatial import distance\n",
    "\n",
    "\n",
    "X, _ = make_blobs(n_samples = 300, centers =4, cluster_std = 1.0, random_state = 42)\n",
    "\n",
    "def min_inter_cluster_distance(cluster_centers):\n",
    "    \n",
    "    min_distance = float('inf')\n",
    "    for i in range(len(cluster_centers)):\n",
    "        for j in range(i+1, len(cluster_centers)):\n",
    "            dist = distance.euclidean(cluster_centers[i], cluster_centers[j])\n",
    "            \n",
    "            if (dist < min_distance):\n",
    "                min_distances = dist\n",
    "    return min_distance\n",
    "\n",
    "def max_intra_cluster_distance(X ,labels):\n",
    "    max_distance = 0\n",
    "    for cluster_label in np.unique(labels):\n",
    "        cluster_points = X[labels == cluster_label]\n",
    "        centroid = np.mean(cluster_points, axis = 0)\n",
    "        \n",
    "        intra_cluster_distances = [distance.euclidean(centroid, point) for point in cluster_points]\n",
    "        max_intra_cluster_distance = max(intra_cluster_distances)\n",
    "        \n",
    "        if max_intra_cluster_distance > max_distance:\n",
    "            max_distance = max_intra_cluster_distance\n",
    "            \n",
    "    return max_distance\n",
    "\n",
    "kmeans = KMeans(n_clusters = 4, random_state = 42)\n",
    "\n",
    "labels = kmeans.fit_predict(X)\n",
    "\n",
    "cluster_centers = kmeans.cluster_centers_"
   ]
  },
  {
   "cell_type": "code",
   "execution_count": 14,
   "id": "396c90d5",
   "metadata": {},
   "outputs": [
    {
     "name": "stdout",
     "output_type": "stream",
     "text": [
      "Dunn's index : inf\n"
     ]
    }
   ],
   "source": [
    "inter_clusters_dist = min_inter_cluster_distance(cluster_centers)\n",
    "intra_clusters_dist = max_intra_cluster_distance(X, labels)\n",
    "\n",
    "dunna_index = (inter_clusters_dist/intra_clusters_dist)\n",
    "\n",
    "print(f\"Dunn's index : {dunna_index}\")"
   ]
  },
  {
   "cell_type": "code",
   "execution_count": 15,
   "id": "446ffa55",
   "metadata": {},
   "outputs": [],
   "source": [
    "from sklearn.datasets import load_iris\n",
    "from sklearn.cluster import KMeans\n",
    "from sklearn.metrics import davies_bouldin_score\n",
    "\n"
   ]
  },
  {
   "cell_type": "code",
   "execution_count": 16,
   "id": "4c74aef4",
   "metadata": {},
   "outputs": [
    {
     "name": "stdout",
     "output_type": "stream",
     "text": [
      "0.6619715465007465\n"
     ]
    }
   ],
   "source": [
    "iris = load_iris()\n",
    "X = iris.data\n",
    "\n",
    "kmeans = KMeans(n_clusters = 3, random_state =42)\n",
    "labels = kmeans.fit_predict(X, labels)\n",
    "\n",
    "db_index = davies_bouldin_score(X, labels)\n",
    "print(db_index)"
   ]
  },
  {
   "cell_type": "code",
   "execution_count": 29,
   "id": "d79cc53c",
   "metadata": {},
   "outputs": [
    {
     "ename": "IndexError",
     "evalue": "list index out of range",
     "output_type": "error",
     "traceback": [
      "\u001b[1;31m---------------------------------------------------------------------------\u001b[0m",
      "\u001b[1;31mIndexError\u001b[0m                                Traceback (most recent call last)",
      "Input \u001b[1;32mIn [29]\u001b[0m, in \u001b[0;36m<cell line: 5>\u001b[1;34m()\u001b[0m\n\u001b[0;32m      5\u001b[0m \u001b[38;5;28;01mfor\u001b[39;00m i \u001b[38;5;129;01min\u001b[39;00m unique_labels:\n\u001b[0;32m      6\u001b[0m     filtered_label \u001b[38;5;241m=\u001b[39m X[labels \u001b[38;5;241m==\u001b[39m i]\n\u001b[1;32m----> 8\u001b[0m     plt\u001b[38;5;241m.\u001b[39mscatter(filtered_label [:,\u001b[38;5;241m0\u001b[39m], filtered_label [:, \u001b[38;5;241m1\u001b[39m], color \u001b[38;5;241m=\u001b[39m \u001b[43mcolors\u001b[49m\u001b[43m[\u001b[49m\u001b[43mi\u001b[49m\u001b[43m]\u001b[49m, edgecolor\u001b[38;5;241m=\u001b[39m\u001b[38;5;124m'\u001b[39m\u001b[38;5;124mk\u001b[39m\u001b[38;5;124m'\u001b[39m)\n\u001b[0;32m     11\u001b[0m plt\u001b[38;5;241m.\u001b[39mxlabel(\u001b[38;5;124m'\u001b[39m\u001b[38;5;124mSepal length\u001b[39m\u001b[38;5;124m'\u001b[39m)\n\u001b[0;32m     12\u001b[0m plt\u001b[38;5;241m.\u001b[39mylabel(\u001b[38;5;124m'\u001b[39m\u001b[38;5;124msepal width\u001b[39m\u001b[38;5;124m'\u001b[39m)\n",
      "\u001b[1;31mIndexError\u001b[0m: list index out of range"
     ]
    },
    {
     "data": {
      "image/png": "[encoded data removed]",
      "text/plain": [
       "<Figure size 432x288 with 1 Axes>"
      ]
     },
     "metadata": {
      "needs_background": "light"
     },
     "output_type": "display_data"
    }
   ],
   "source": [
    "unique_labels= list(set(labels))\n",
    "\n",
    "colors= ['red','orange','grey']\n",
    "\n",
    "for i in unique_labels:\n",
    "    filtered_label = X[labels == i]\n",
    "    \n",
    "    plt.scatter(filtered_label [:,0], filtered_label [:, 1], color = colors[i], edgecolor='k')\n",
    "   \n",
    "\n",
    "plt.xlabel('Sepal length')\n",
    "plt.ylabel('sepal width')\n",
    "plt.show()\n",
    "\n"
   ]
  },
  {
   "cell_type": "code",
   "execution_count": 26,
   "id": "3a1fd7ef",
   "metadata": {},
   "outputs": [
    {
     "data": {
      "image/png": "[encoded data removed]",
      "text/plain": [
       "<Figure size 432x288 with 1 Axes>"
      ]
     },
     "metadata": {
      "needs_background": "light"
     },
     "output_type": "display_data"
    }
   ],
   "source": [
    "results = {}\n",
    "\n",
    "for i in range(2, 11):\n",
    "    kmeans = KMeans(n_clusters = i, random_state = 30)\n",
    "    labels = kmeans.fit_predict(X)\n",
    "    db_index = davies_bouldin_score(X, labels)\n",
    "    results.update({i: db_index})\n",
    "    \n",
    "plt.plot(list(results.keys()), list(results.values()))\n",
    "\n",
    "\n",
    "plt.xlabel('no. of clusters')\n",
    "plt.ylabel('Davies boulding index')\n",
    "plt.show()"
   ]
  },
  {
   "cell_type": "code",
   "execution_count": null,
   "id": "111f9937",
   "metadata": {},
   "outputs": [],
   "source": []
  }
 ],
 "metadata": {
  "kernelspec": {
   "display_name": "Python 3 (ipykernel)",
   "language": "python",
   "name": "python3"
  },
  "language_info": {
   "codemirror_mode": {
    "name": "ipython",
    "version": 3
   },
   "file_extension": ".py",
   "mimetype": "text/x-python",
   "name": "python",
   "nbconvert_exporter": "python",
   "pygments_lexer": "ipython3",
   "version": "3.9.12"
  }
 },
 "nbformat": 4,
 "nbformat_minor": 5
}
