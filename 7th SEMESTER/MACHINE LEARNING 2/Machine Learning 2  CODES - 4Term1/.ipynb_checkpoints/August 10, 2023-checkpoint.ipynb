{
 "cells": [
  {
   "cell_type": "markdown",
   "id": "9a89c99e",
   "metadata": {},
   "source": [
    "# k-means++ clustering on iris dataset"
   ]
  },
  {
   "cell_type": "code",
   "execution_count": 1,
   "id": "cfe5ea46",
   "metadata": {},
   "outputs": [],
   "source": [
    "import numpy as np\n",
    "import pandas as pd\n",
    "import matplotlib.pyplot as plt\n",
    "\n",
    "from sklearn.datasets import load_iris\n",
    "from sklearn.cluster import KMeans"
   ]
  },
  {
   "cell_type": "code",
   "execution_count": 2,
   "id": "74cc0e7d",
   "metadata": {},
   "outputs": [],
   "source": [
    "iris = load_iris()\n",
    "\n",
    "X = iris.data"
   ]
  },
  {
   "cell_type": "code",
   "execution_count": 3,
   "id": "8204d091",
   "metadata": {},
   "outputs": [],
   "source": [
    "kmeans  = KMeans(n_clusters = 3, init = 'k-means++', random_state = 42)\n",
    "kmeans.fit(X)\n",
    "\n",
    "labels = kmeans.labels_\n",
    "centers = kmeans.cluster_centers_"
   ]
  },
  {
   "cell_type": "code",
   "execution_count": 7,
   "id": "502d86cd",
   "metadata": {},
   "outputs": [
    {
     "data": {
      "image/png": "[encoded data removed]",
      "text/plain": [
       "<Figure size 720x432 with 1 Axes>"
      ]
     },
     "metadata": {
      "needs_background": "light"
     },
     "output_type": "display_data"
    }
   ],
   "source": [
    "plt.figure(figsize = (10,6))\n",
    "\n",
    "plt.scatter(X[labels == 0, 0], X[labels == 0, 1], c = 'red', label = 'Cluster 1')\n",
    "plt.scatter(X[labels == 1, 0], X[labels == 1, 1], c = 'blue', label = 'Cluster 2')\n",
    "plt.scatter(X[labels == 2, 0], X[labels == 2, 1], c = 'green', label = 'Cluster 3')\n",
    "\n",
    "plt.scatter(centers[:, 0], centers[:, 1], c = 'black', marker = 'x', s = 200, label = 'Cluster centers')\n",
    "\n",
    "plt.xlabel('Sepal length')\n",
    "plt.ylabel('sepal width')\n",
    "plt.title('k-means++ clustering on iris dataset')\n",
    "\n",
    "plt.legend()\n",
    "plt.show()"
   ]
  },
  {
   "cell_type": "code",
   "execution_count": 16,
   "id": "191fa068",
   "metadata": {},
   "outputs": [],
   "source": [
    "from sklearn.preprocessing import StandardScaler\n",
    "\n",
    "data = X.tolist()"
   ]
  },
  {
   "cell_type": "code",
   "execution_count": 17,
   "id": "0e767a96",
   "metadata": {},
   "outputs": [
    {
     "name": "stdout",
     "output_type": "stream",
     "text": [
      "Collecting pyclustering\n",
      "  Downloading pyclustering-0.10.1.2.tar.gz (2.6 MB)\n",
      "     ---------------------------------------- 2.6/2.6 MB 778.1 kB/s eta 0:00:00\n",
      "  Preparing metadata (setup.py): started\n",
      "  Preparing metadata (setup.py): finished with status 'done'\n",
      "Requirement already satisfied: scipy>=1.1.0 in c:\\users\\dell\\anaconda3\\lib\\site-packages (from pyclustering) (1.7.3)\n",
      "Requirement already satisfied: matplotlib>=3.0.0 in c:\\users\\dell\\anaconda3\\lib\\site-packages (from pyclustering) (3.5.1)\n",
      "Requirement already satisfied: numpy>=1.15.2 in c:\\users\\dell\\anaconda3\\lib\\site-packages (from pyclustering) (1.21.5)\n",
      "Requirement already satisfied: Pillow>=5.2.0 in c:\\users\\dell\\anaconda3\\lib\\site-packages (from pyclustering) (9.0.1)\n",
      "Requirement already satisfied: cycler>=0.10 in c:\\users\\dell\\anaconda3\\lib\\site-packages (from matplotlib>=3.0.0->pyclustering) (0.11.0)\n",
      "Requirement already satisfied: packaging>=20.0 in c:\\users\\dell\\anaconda3\\lib\\site-packages (from matplotlib>=3.0.0->pyclustering) (21.3)\n",
      "Requirement already satisfied: fonttools>=4.22.0 in c:\\users\\dell\\anaconda3\\lib\\site-packages (from matplotlib>=3.0.0->pyclustering) (4.25.0)\n",
      "Requirement already satisfied: python-dateutil>=2.7 in c:\\users\\dell\\anaconda3\\lib\\site-packages (from matplotlib>=3.0.0->pyclustering) (2.8.2)\n",
      "Requirement already satisfied: pyparsing>=2.2.1 in c:\\users\\dell\\anaconda3\\lib\\site-packages (from matplotlib>=3.0.0->pyclustering) (3.0.4)\n",
      "Requirement already satisfied: kiwisolver>=1.0.1 in c:\\users\\dell\\anaconda3\\lib\\site-packages (from matplotlib>=3.0.0->pyclustering) (1.3.2)\n",
      "Requirement already satisfied: six>=1.5 in c:\\users\\dell\\anaconda3\\lib\\site-packages (from python-dateutil>=2.7->matplotlib>=3.0.0->pyclustering) (1.16.0)\n",
      "Building wheels for collected packages: pyclustering\n",
      "  Building wheel for pyclustering (setup.py): started\n",
      "  Building wheel for pyclustering (setup.py): finished with status 'done'\n",
      "  Created wheel for pyclustering: filename=pyclustering-0.10.1.2-py3-none-any.whl size=2395122 sha256=c321e127f291f7f82499e093754ff8f98c95b9d9bdb8260efaa28b73368adeb9\n",
      "  Stored in directory: c:\\users\\dell\\appdata\\local\\pip\\cache\\wheels\\e0\\56\\c2\\abb6866a3fcd8a55862f1df8a18f57805c3a78fed9a9023cb9\n",
      "Successfully built pyclustering\n",
      "Installing collected packages: pyclustering\n",
      "Successfully installed pyclustering-0.10.1.2\n",
      "\n",
      "[notice] A new release of pip available: 22.1.2 -> 23.2.1\n",
      "[notice] To update, run: python.exe -m pip install --upgrade pip\n",
      "Note: you may need to restart the kernel to use updated packages.\n"
     ]
    }
   ],
   "source": [
    "pip install pyclustering"
   ]
  },
  {
   "cell_type": "code",
   "execution_count": 19,
   "id": "ac322bb4",
   "metadata": {},
   "outputs": [],
   "source": [
    "from pyclustering.utils import timedcall\n",
    "from pyclustering.cluster.kmedoids import kmedoids\n",
    "\n",
    "num_clusters = 3\n",
    "initial_medoids = [10, 60, 120]\n",
    "kmedoids_instances = kmedoids(data, initial_medoids)\n",
    "(ticks, result) = timedcall(kmedoids_instances.process)\n",
    "clusters = kmedoids_instances.get_clusters()\n",
    "medoids  = kmedoids_instances.get_medoids()"
   ]
  },
  {
   "cell_type": "code",
   "execution_count": null,
   "id": "2c9f6cbf",
   "metadata": {},
   "outputs": [],
   "source": [
    "plt.figure(figsize = (10, 6))\n",
    "\n",
    "colors = ['red', 'blue', 'green']\n",
    "\n",
    "\n",
    "for cluster_idx, cluster in enumerate(clusters):\n",
    "    for point_idx in cluster:\n",
    "        plt.scatter(X[point_idx, 0], X[])"
   ]
  }
 ],
 "metadata": {
  "kernelspec": {
   "display_name": "Python 3 (ipykernel)",
   "language": "python",
   "name": "python3"
  },
  "language_info": {
   "codemirror_mode": {
    "name": "ipython",
    "version": 3
   },
   "file_extension": ".py",
   "mimetype": "text/x-python",
   "name": "python",
   "nbconvert_exporter": "python",
   "pygments_lexer": "ipython3",
   "version": "3.9.12"
  }
 },
 "nbformat": 4,
 "nbformat_minor": 5
}
