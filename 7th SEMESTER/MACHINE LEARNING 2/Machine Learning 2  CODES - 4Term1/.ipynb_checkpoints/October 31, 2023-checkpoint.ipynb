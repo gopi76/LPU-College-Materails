{
 "cells": [
  {
   "cell_type": "markdown",
   "id": "1dcd6736",
   "metadata": {},
   "source": [
    "## Recommender Systems"
   ]
  },
  {
   "cell_type": "code",
   "execution_count": null,
   "id": "81aaeb4e",
   "metadata": {},
   "outputs": [],
   "source": []
  },
  {
   "cell_type": "markdown",
   "id": "303b312a",
   "metadata": {},
   "source": [
    "User to user collaboration filtering recommendation"
   ]
  },
  {
   "cell_type": "code",
   "execution_count": 7,
   "id": "9ecd5bb1",
   "metadata": {},
   "outputs": [
    {
     "name": "stdout",
     "output_type": "stream",
     "text": [
      "Enter the no.of top n recommedations from the matrix : 2\n",
      "User to user collaboration filtering recommendation\n",
      "Recommendation 1: item 5\n",
      "Recommendation 2: item 3\n"
     ]
    }
   ],
   "source": [
    "import numpy as np\n",
    "from sklearn.metrics.pairwise import cosine_similarity\n",
    "\n",
    "user_item_matrix  = np.array([\n",
    "    [5, 4, 0, 2, 0],\n",
    "    [0, 4.5, 5, 4, 4],\n",
    "    [0, 0, 4, 5, 3],\n",
    "    [0, 4, 0, 5, 2]\n",
    "])\n",
    "\n",
    "def compute_user_similarity(matrix):\n",
    "    similarity_matrix = cosine_similarity(matrix)\n",
    "    return similarity_matrix\n",
    "\n",
    "def user_based_recommendations(user_id, user_similarity_matrix, matrix, top_n):\n",
    "    similar_users = np.argsort(user_similarity_matrix[user_id])[::-1]\n",
    "    \n",
    "    recommended_items = []\n",
    "    for user in similar_users:\n",
    "        if user == user_id:\n",
    "            continue\n",
    "        rated_items = np.where(matrix[user] > 0)[0]\n",
    "        for item in rated_items:\n",
    "            if matrix[user_id][item] == 0:\n",
    "                recommended_items.append(item)\n",
    "        if len(recommended_items) >= top_n:\n",
    "            break\n",
    "    return recommended_items[:top_n]\n",
    "\n",
    "user_similarity_matrix = compute_user_similarity(user_item_matrix)\n",
    "\n",
    "active_user_id = 0\n",
    "top_n_recommendations = 2\n",
    "\n",
    "top_n = int(input(\"Enter the no.of top n recommedations from the matrix : \"))\n",
    "recommendations = user_based_recommendations(active_user_id,\n",
    "                                            user_similarity_matrix,\n",
    "                                            user_item_matrix,\n",
    "                                            top_n=top_n_recommendations)\n",
    "\n",
    "print(\"User to user collaboration filtering recommendation\")\n",
    "\n",
    "for j, item in enumerate(recommendations):\n",
    "    print(f\"Recommendation {j+1}: item {item+1}\")\n"
   ]
  },
  {
   "cell_type": "markdown",
   "id": "695b5e55",
   "metadata": {},
   "source": [
    "Item to Item collaboration filtering recommendation"
   ]
  },
  {
   "cell_type": "code",
   "execution_count": null,
   "id": "8a401cf6",
   "metadata": {},
   "outputs": [],
   "source": [
    "ratings = np.array([\n",
    "    [5, 3, 4, 4, np.nan],\n",
    "    [1, 2, 3, 4, 5],\n",
    "    [5, 4, 3, 2, 1],\n",
    "    [1, 4, 2, 5, 3]\n",
    "])\n",
    "\n",
    "def cosine_similarity(item1, item2):\n",
    "    item1_ratings = ratings[:, item1]\n",
    "    item2_ratings = ratings[:, item2]\n",
    "    \n",
    "    common_ratings = np.logical_and(~np.isnan(item1_ratings),\n",
    "                                   ~np.isnan(item2_ratings))\n",
    "    \n",
    "    if np.sum(common_ratings) == 0:\n",
    "        return 0\n",
    "    \n",
    "    item1_ratings = item1_ratings[common_ratings]\n",
    "    item2_ratings = item2_ratings[common_ratings]\n",
    "    \n",
    "    numerator = np.dot(item1_ratings, item2_ratings)\n",
    "    denominator = np.linalg.norm(item1_ratings) * np.linalg.norm(item2_ratings)\n",
    "    \n",
    "    if denominator ==0:\n",
    "        return 0\n",
    "    \n",
    "    return numerator / denominator\n",
    "\n",
    "def predict_rating(user, item):\n",
    "    numerator, denominator = 0, 0\n",
    "    for other_item in range(ratings.shape[1]):\n",
    "        \n",
    "    \n",
    "    "
   ]
  }
 ],
 "metadata": {
  "kernelspec": {
   "display_name": "Python 3 (ipykernel)",
   "language": "python",
   "name": "python3"
  },
  "language_info": {
   "codemirror_mode": {
    "name": "ipython",
    "version": 3
   },
   "file_extension": ".py",
   "mimetype": "text/x-python",
   "name": "python",
   "nbconvert_exporter": "python",
   "pygments_lexer": "ipython3",
   "version": "3.11.5"
  }
 },
 "nbformat": 4,
 "nbformat_minor": 5
}
