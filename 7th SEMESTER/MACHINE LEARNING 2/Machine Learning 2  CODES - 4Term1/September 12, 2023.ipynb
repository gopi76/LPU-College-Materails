{
 "cells": [
  {
   "cell_type": "code",
   "execution_count": 1,
   "id": "bf910cdb",
   "metadata": {},
   "outputs": [],
   "source": [
    "import numpy as np\n",
    "from sklearn import datasets\n",
    "from sklearn.cluster import KMeans\n",
    "from sklearn.metrics import adjusted_rand_score\n"
   ]
  },
  {
   "cell_type": "code",
   "execution_count": 2,
   "id": "f15e262c",
   "metadata": {},
   "outputs": [],
   "source": [
    "iris = datasets.load_iris()\n",
    "X = iris.data\n",
    "Y_true = iris.target"
   ]
  },
  {
   "cell_type": "code",
   "execution_count": 3,
   "id": "4a37be62",
   "metadata": {},
   "outputs": [],
   "source": [
    "kmeans = KMeans(n_clusters = 3, random_state = 42)\n",
    "y_pred = kmeans.fit_predict(X)"
   ]
  },
  {
   "cell_type": "code",
   "execution_count": 4,
   "id": "92ac625e",
   "metadata": {},
   "outputs": [
    {
     "name": "stdout",
     "output_type": "stream",
     "text": [
      "Adjusted rand score : 0.7302\n"
     ]
    }
   ],
   "source": [
    "ari = adjusted_rand_score(Y_true, y_pred)\n",
    "\n",
    "print(f\"Adjusted rand score : {ari:.4f}\")"
   ]
  },
  {
   "cell_type": "code",
   "execution_count": 5,
   "id": "91ded74b",
   "metadata": {},
   "outputs": [],
   "source": [
    "from sklearn.metrics import normalized_mutual_info_score\n",
    "\n",
    "iris1 = datasets.load_iris()\n",
    "X  = iris1.data"
   ]
  },
  {
   "cell_type": "code",
   "execution_count": 6,
   "id": "02612ce6",
   "metadata": {},
   "outputs": [],
   "source": [
    "y_true = iris1.target\n",
    "\n",
    "n_clusters = 3\n",
    "kmeans = KMeans(n_clusters = 3, random_state = 42)\n",
    "y_pred = kmeans.fit_predict(X)"
   ]
  },
  {
   "cell_type": "code",
   "execution_count": 7,
   "id": "e9885795",
   "metadata": {},
   "outputs": [],
   "source": [
    "nmi_score = normalized_mutual_info_score(y_true, y_pred)"
   ]
  },
  {
   "cell_type": "code",
   "execution_count": 8,
   "id": "69f61689",
   "metadata": {},
   "outputs": [
    {
     "name": "stdout",
     "output_type": "stream",
     "text": [
      "Normalized mutual infomation 0.7582\n"
     ]
    }
   ],
   "source": [
    "print(f\"Normalized mutual infomation {nmi_score:.4f}\")"
   ]
  },
  {
   "cell_type": "code",
   "execution_count": 9,
   "id": "74938f37",
   "metadata": {},
   "outputs": [],
   "source": [
    "from sklearn.metrics.cluster import fowlkes_mallows_score\n",
    "\n",
    "iris = datasets.load_iris()\n",
    "X = iris.data\n",
    "Y_true = iris.target"
   ]
  },
  {
   "cell_type": "code",
   "execution_count": 10,
   "id": "99c2c3cf",
   "metadata": {},
   "outputs": [],
   "source": [
    "n_clusters = 3\n",
    "kmeans = KMeans(n_clusters = 3, random_state = 42)\n",
    "y_pred = kmeans.fit_predict(X)"
   ]
  },
  {
   "cell_type": "code",
   "execution_count": 11,
   "id": "a3cb6b8a",
   "metadata": {},
   "outputs": [
    {
     "name": "stdout",
     "output_type": "stream",
     "text": [
      "Normalized mutual infomation 0.8208\n"
     ]
    }
   ],
   "source": [
    "fw_score =fowlkes_mallows_score(y_true, y_pred)\n",
    "\n",
    "print(f\"Normalized mutual infomation {fw_score:.4f}\")"
   ]
  },
  {
   "cell_type": "code",
   "execution_count": null,
   "id": "6075f0c9",
   "metadata": {},
   "outputs": [],
   "source": []
  }
 ],
 "metadata": {
  "kernelspec": {
   "display_name": "Python 3 (ipykernel)",
   "language": "python",
   "name": "python3"
  },
  "language_info": {
   "codemirror_mode": {
    "name": "ipython",
    "version": 3
   },
   "file_extension": ".py",
   "mimetype": "text/x-python",
   "name": "python",
   "nbconvert_exporter": "python",
   "pygments_lexer": "ipython3",
   "version": "3.9.12"
  }
 },
 "nbformat": 4,
 "nbformat_minor": 5
}
