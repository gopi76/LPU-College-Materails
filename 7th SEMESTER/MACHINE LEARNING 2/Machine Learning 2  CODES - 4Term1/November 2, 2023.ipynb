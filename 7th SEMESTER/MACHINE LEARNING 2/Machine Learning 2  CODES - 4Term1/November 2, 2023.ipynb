{
 "cells": [
  {
   "cell_type": "code",
   "execution_count": 2,
   "id": "31cadcc3",
   "metadata": {},
   "outputs": [
    {
     "name": "stdout",
     "output_type": "stream",
     "text": [
      "Preidct rating for alice of the items : 0.00\n"
     ]
    }
   ],
   "source": [
    "import numpy as np\n",
    "\n",
    "ratings = np.array([\n",
    "    [5, 3, 4, 4, np.nan],\n",
    "    [3, 1, 2, 3, 3],\n",
    "    [4, 3, 4, 3, 5],\n",
    "    [3, 3, 1, 5, 4],\n",
    "    [1, 5, 5, 2, 1]\n",
    "])\n",
    "\n",
    "def cosine_similarity(item1, item2):\n",
    "    item1_ratings = ratings[:, item1]\n",
    "    item2_ratings = ratings[:, item2]\n",
    "    common_ratings = np.logical_and(~np.isnan(item1_ratings),\n",
    "                                   ~np.isnan(item2_ratings))\n",
    "    \n",
    "    if np.sum(common_ratings) == 0:\n",
    "        return 0\n",
    "    \n",
    "    item1_ratings = item1_ratings[common_ratings]\n",
    "    item2_ratings = item2_ratings[common_ratings]\n",
    "    \n",
    "    numerator = np.dot(item1_ratings, item2_ratings)\n",
    "    denominator = np.linalg.norm(item1_ratings) * np.linalg.norm(item2_ratings)\n",
    "    \n",
    "    if denominator == 0:\n",
    "        return 0\n",
    "    \n",
    "    return numerator/denominator\n",
    "\n",
    "def predict_rating(user, item):\n",
    "    numerator,  denominator = 0, 0\n",
    "    \n",
    "    for other_item in range(ratings.shape[1]):\n",
    "        if item != other_item and not np.isnan(ratings[user][other_item]):\n",
    "            sim = cosine_similarity(item, other_item)\n",
    "            numerator += sim * ratings[user][other_item]\n",
    "            \n",
    "    if denominator == 0:\n",
    "        return 0\n",
    "    else:\n",
    "        return numerator/denominator\n",
    "        \n",
    "alice_predicted_rating = predict_rating(0, 4)\n",
    "\n",
    "print(f\"Predict rating for alice of the items : {alice_predicted_rating:.2f}\")\n",
    "    \n",
    "        "
   ]
  },
  {
   "cell_type": "code",
   "execution_count": 3,
   "id": "9671d0bf",
   "metadata": {},
   "outputs": [
    {
     "name": "stdout",
     "output_type": "stream",
     "text": [
      "Top recommendations for user 0: [4, 2]\n"
     ]
    }
   ],
   "source": [
    "import numpy as np\n",
    "\n",
    "user_item_matrix = np.array([\n",
    "    [1, 2, 0, 4, 0],\n",
    "    [5, 0, 3, 0, 1],\n",
    "    [0, 1, 0, 2, 5],\n",
    "    [2, 0, 4, 0, 0],\n",
    "])\n",
    "k = 2\n",
    "num_users, num_items = user_item_matrix.shape\n",
    "user_matrix = np.random.rand(num_users, k)\n",
    "item_matrix = np.random.rand(num_items, k)\n",
    "learning_rate = 0.01\n",
    "lambda_reg = 0.1\n",
    "\n",
    "num_iterations = 1000\n",
    "\n",
    "for _ in range(num_iterations):\n",
    "    for i in range(num_users):\n",
    "        for j in range(num_items):\n",
    "            if user_item_matrix[i, j] > 0:\n",
    "                error_ij = user_item_matrix[i, j] - np.dot(user_matrix[i, :], item_matrix[j, :])\n",
    "                for f in range(k):\n",
    "                    user_matrix[i, f] += learning_rate * (2 * error_ij * item_matrix[j, f] - 2 * lambda_reg * user_matrix[i, f])\n",
    "                    item_matrix[j, f] += learning_rate * (2 * error_ij * user_matrix[i, f] - 2 * lambda_reg * item_matrix[j, f])\n",
    "\n",
    "predicted_matrix = np.dot(user_matrix, item_matrix.T)\n",
    "\n",
    "user_id = 0\n",
    "recommendations = predicted_matrix[user_id]\n",
    "recommended_items = np.argsort(recommendations)[::-1]\n",
    "known_items = [j for j in range(num_items) if user_item_matrix[user_id, j] > 0]\n",
    "top_recommendations = [item for item in recommended_items if item not in known_items]\n",
    "\n",
    "print(\"Top recommendations for user {}:\".format(user_id), top_recommendations)"
   ]
  },
  {
   "cell_type": "code",
   "execution_count": null,
   "id": "0d441dbd",
   "metadata": {},
   "outputs": [],
   "source": []
  }
 ],
 "metadata": {
  "kernelspec": {
   "display_name": "Python 3 (ipykernel)",
   "language": "python",
   "name": "python3"
  },
  "language_info": {
   "codemirror_mode": {
    "name": "ipython",
    "version": 3
   },
   "file_extension": ".py",
   "mimetype": "text/x-python",
   "name": "python",
   "nbconvert_exporter": "python",
   "pygments_lexer": "ipython3",
   "version": "3.11.5"
  }
 },
 "nbformat": 4,
 "nbformat_minor": 5
}
