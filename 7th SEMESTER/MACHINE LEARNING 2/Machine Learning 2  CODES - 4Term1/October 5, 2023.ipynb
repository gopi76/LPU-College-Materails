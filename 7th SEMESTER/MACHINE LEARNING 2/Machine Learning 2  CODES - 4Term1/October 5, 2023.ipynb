{
 "cells": [
  {
   "cell_type": "code",
   "execution_count": 4,
   "id": "df48e39c",
   "metadata": {},
   "outputs": [
    {
     "ename": "SyntaxError",
     "evalue": "invalid syntax (4116197597.py, line 27)",
     "output_type": "error",
     "traceback": [
      "\u001b[1;36m  Input \u001b[1;32mIn [4]\u001b[1;36m\u001b[0m\n\u001b[1;33m    0 : (0:0, 1:0),\u001b[0m\n\u001b[1;37m          ^\u001b[0m\n\u001b[1;31mSyntaxError\u001b[0m\u001b[1;31m:\u001b[0m invalid syntax\n"
     ]
    }
   ],
   "source": [
    "import numpy as np\n",
    "\n",
    "num_states = 4\n",
    "num_actions = 2\n",
    "discount_factor = 0.9\n",
    "\n",
    "P = {\n",
    "    0 :{\n",
    "        0 : [(0.8, 0), (0.2, 1)],\n",
    "        1 : [(0.2, 0), (0.8, 2)],\n",
    "    },\n",
    "    1 :{\n",
    "        0 : [(1.0, 1)],\n",
    "        1 : [(1.0, 1)],\n",
    "    },\n",
    "    2 :{\n",
    "        0 : [(0.4, 0), (0.6, 3)],\n",
    "        1 : [(0.1, 0), (0.9, 3)],\n",
    "    },\n",
    "    3 :{\n",
    "        0 : [(0.7, 2), (0.3, 3)],\n",
    "        1 : [(0.4, 2), (0.6, 3)],\n",
    "    },\n",
    "}\n",
    "\n",
    "R = {\n",
    "    0 : (0:0, 1:0),\n",
    "    1 : (0:1, 1:1),\n",
    "    2 : (0:0, 1:-1),\n",
    "    3 : (0:0, 1:0),\n",
    "}\n",
    "\n",
    "\n",
    "V = np.zeros(num_states)\n",
    "\n",
    "num_iterations = 1000\n",
    "\n",
    "for i in range(num_iterations):\n",
    "    new_V = np.zeros(num_states)\n",
    "    for s in range(num_states):\n",
    "        max_q_value = float(\"-inf\")\n",
    "        for a in range(num_actions):\n",
    "            q_value = sum(P * (R[s][a] + discount_factor * V[next_s])\n",
    "            for p, next_s in P[s][a])\n",
    "            if q_value > max_q_value:\n",
    "                max_q_value = q_value\n",
    "        new_V[s] = max_q_value\n",
    "    V = new_V\n",
    "    \n",
    "print(\"Optimal value Function\")\n",
    "print(V)"
   ]
  },
  {
   "cell_type": "code",
   "execution_count": null,
   "id": "b9dff54c",
   "metadata": {},
   "outputs": [],
   "source": [
    "optimal_policy = np.zeros(num_states, dtype = int)\n",
    "for s in range(num_states):\n",
    "    max_q_value = float(\"-inf\")\n",
    "    for a in range(num_actions):\n",
    "        q_value = sum(P * (R[s][a] + discount_factor * V[next_s])\n",
    "                     for p, next_s in P[s][a])\n",
    "        if q_value > max_q_value:\n",
    "            max_q_value = q_value\n",
    "            optimal_policy[s] = a\n",
    "            \n",
    "print(\"Optimal Policy\")\n",
    "print(optimal_policy)"
   ]
  },
  {
   "cell_type": "code",
   "execution_count": null,
   "id": "cd463128",
   "metadata": {},
   "outputs": [],
   "source": [
    "policy = np.zeros(num_states, dtype = int)\n",
    "\n",
    "while True:\n",
    "    V = np.zeros(num_states)\n",
    "    for _ in range(1000):\n",
    "        for a in range(num_states):\n",
    "            a = policy[s]\n",
    "            V[s] = sum(P * R[s][a] + discount_factor * V[next_s])\n",
    "            for p, next_s in P[s][a])\n",
    "            \n",
    "    policy_stable = True\n",
    "    \n",
    "    for s in range(num_states):\n",
    "        old_action = policy(s)\n",
    "        max_action_value = float(\"-inf\")\n",
    "        for a in range(num_actions):\n",
    "            action_value = sum(P * (R[s][a] + discount_factor * V[next_s])\n",
    "            for p, next_s in P[s][a])\n",
    "            if action_value > max_action_value:\n",
    "                max_action_value = action_value\n",
    "                policy[s] = a\n",
    "        if old_action != policy[s]:\n",
    "            policy_stable = False\n",
    "    if policy_stable:\n",
    "        break\n",
    "        \n",
    "        \n",
    "        \n",
    "print(\"Optimal Policy\")\n",
    "print(policy)"
   ]
  }
 ],
 "metadata": {
  "kernelspec": {
   "display_name": "Python 3 (ipykernel)",
   "language": "python",
   "name": "python3"
  },
  "language_info": {
   "codemirror_mode": {
    "name": "ipython",
    "version": 3
   },
   "file_extension": ".py",
   "mimetype": "text/x-python",
   "name": "python",
   "nbconvert_exporter": "python",
   "pygments_lexer": "ipython3",
   "version": "3.9.12"
  }
 },
 "nbformat": 4,
 "nbformat_minor": 5
}
